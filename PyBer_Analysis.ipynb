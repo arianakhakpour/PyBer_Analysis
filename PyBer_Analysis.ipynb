{
 "cells": [
  {
   "cell_type": "markdown",
   "metadata": {},
   "source": [
    "# Pyber Challenge"
   ]
  },
  {
   "cell_type": "markdown",
   "metadata": {},
   "source": [
    "### 4.3 Loading and Reading CSV files"
   ]
  },
  {
   "cell_type": "code",
   "execution_count": 1,
   "metadata": {},
   "outputs": [],
   "source": [
    "# Add Matplotlib inline magic command\n",
    "%matplotlib inline\n",
    "# Dependencies and Setup\n",
    "import os\n",
    "import csv\n",
    "import matplotlib.pyplot as plt\n",
    "import pandas as pd\n",
    "\n",
    "# File to Load (Remember to change these)\n",
    "city_data_to_load = \"Resources/city_data.csv\"\n",
    "ride_data_to_load = \"Resources/ride_data.csv\"\n",
    "\n",
    "# Read the City and Ride Data\n",
    "city_data_df = pd.read_csv(city_data_to_load)\n",
    "ride_data_df = pd.read_csv(ride_data_to_load)\n"
   ]
  },
  {
   "cell_type": "markdown",
   "metadata": {},
   "source": [
    "### Merge the DataFrames"
   ]
  },
  {
   "cell_type": "code",
   "execution_count": 3,
   "metadata": {
    "scrolled": true
   },
   "outputs": [
    {
     "output_type": "execute_result",
     "data": {
      "text/plain": [
       "                     city                 date   fare        ride_id  \\\n",
       "0      Lake Jonathanshire  2019-01-14 10:14:22  13.83  5739410935873   \n",
       "1      South Michelleport  2019-03-04 18:24:09  30.24  2343912425577   \n",
       "2      Port Samanthamouth  2019-02-24 04:29:00  33.44  2005065760003   \n",
       "3              Rodneyfort  2019-02-10 23:22:03  23.44  5149245426178   \n",
       "4              South Jack  2019-03-06 04:28:35  34.58  3908451377344   \n",
       "5            South Latoya  2019-03-11 12:26:48   9.52  1994999424437   \n",
       "6           New Paulville  2019-02-27 11:17:56  43.25   793208410091   \n",
       "7            Simpsonburgh  2019-04-26 00:43:24  35.98   111953927754   \n",
       "8         South Karenland  2019-01-08 03:28:48  35.09  7995623208694   \n",
       "9           North Jasmine  2019-03-09 06:26:29  42.81  5327642267789   \n",
       "10    New Kimberlyborough  2019-02-07 01:10:11   9.34  7992781920789   \n",
       "11            West Angela  2019-01-12 01:45:27  26.86  4820052223501   \n",
       "12             Rodneyfort  2019-03-02 18:03:20  44.26  2494064867705   \n",
       "13            West Angela  2019-01-10 12:17:31  12.74  2108723916092   \n",
       "14            Roberthaven  2019-05-04 14:48:56  25.66  1026197778354   \n",
       "15            North Jason  2019-03-28 22:28:44   9.19  7007022521141   \n",
       "16           Williamsview  2019-01-03 16:19:25  18.93  1979492913169   \n",
       "17                Leahton  2019-02-26 18:42:15   8.85  6966668662612   \n",
       "18           West Anthony  2019-03-06 02:27:01  10.02  9396763280782   \n",
       "19    New Kimberlyborough  2019-04-25 22:58:38  29.67  4823568522144   \n",
       "20            Roberthaven  2019-02-24 10:26:34   7.80  2180566685151   \n",
       "21            New Paulton  2019-05-01 03:12:49   8.28  8527101897862   \n",
       "22    West Patrickchester  2019-03-19 05:46:20  40.86   898889456779   \n",
       "23              Deanville  2019-04-25 03:29:09  41.52  6055928921559   \n",
       "24        West Josephberg  2019-02-19 16:22:09  36.39  3322126516683   \n",
       "25       West Samuelburgh  2019-05-03 14:33:41  41.12  7330842806458   \n",
       "26             West Heidi  2019-03-14 23:46:50  24.40  4908573010166   \n",
       "27              Loganberg  2019-04-01 01:06:03   8.23   678728883160   \n",
       "28            Huntermouth  2019-02-10 23:32:13  25.79  1880379662035   \n",
       "29           South Latoya  2019-01-11 18:44:14  27.41  8662301917375   \n",
       "...                   ...                  ...    ...            ...   \n",
       "2345         West Heather  2019-02-04 16:29:23  13.97  7118893881453   \n",
       "2346         West Heather  2019-04-18 19:33:12  46.60  3671003215967   \n",
       "2347         West Heather  2019-03-02 21:04:10  20.99  5766454453070   \n",
       "2348      South Saramouth  2019-01-28 15:55:33  31.25  7118046558393   \n",
       "2349         West Heather  2019-03-06 20:06:51  48.11  2570548892682   \n",
       "2350            Garzaport  2019-05-06 16:57:16  18.90  8826696981094   \n",
       "2351      South Saramouth  2019-03-27 21:07:16  11.87   170351888128   \n",
       "2352       Randallchester  2019-04-07 23:42:07  10.79  1615474447641   \n",
       "2353       Harringtonfort  2019-01-09 15:30:35  31.84  3730685356921   \n",
       "2354      South Saramouth  2019-04-12 18:11:50  57.23  5081198789583   \n",
       "2355          North Holly  2019-01-03 19:51:01  19.90  5559509612597   \n",
       "2356         New Ryantown  2019-05-05 19:29:38  26.53  2302209966018   \n",
       "2357         West Heather  2019-02-02 06:28:04  53.07  2462950442268   \n",
       "2358      Lake Latoyabury  2019-02-25 04:10:19  16.18  8492924830016   \n",
       "2359    South Marychester  2019-01-19 11:40:46  49.44    90058815985   \n",
       "2360          Jessicaport  2019-01-31 17:57:25  58.29   623154556195   \n",
       "2361          Michaelberg  2019-03-22 22:20:54  38.30  8032727406577   \n",
       "2362          North Holly  2019-04-18 19:26:25  30.94  3441061016826   \n",
       "2363          Michaelberg  2019-03-13 14:40:18  37.72  8842606115175   \n",
       "2364           Lake Jamie  2019-02-25 23:46:02  28.65  5815763839331   \n",
       "2365           Lake Jamie  2019-04-19 04:32:47  16.29  3518682119233   \n",
       "2366          North Holly  2019-03-18 10:38:05  40.34  3787775176860   \n",
       "2367          Michaelberg  2019-01-27 18:43:05  38.42   862622008020   \n",
       "2368           Lake Jamie  2019-04-29 01:58:44  54.22  2489264790267   \n",
       "2369         Bradshawfurt  2019-01-30 10:55:23  51.39  1328274868072   \n",
       "2370          Michaelberg  2019-04-29 17:04:39  13.38  8550365057598   \n",
       "2371      Lake Latoyabury  2019-01-30 00:05:47  20.76  9018727594352   \n",
       "2372          North Jaime  2019-02-10 21:03:50  11.11  2781339863778   \n",
       "2373         West Heather  2019-05-07 19:22:15  44.94  4256853490277   \n",
       "2374           Newtonview  2019-04-25 10:20:13  55.84  9990581345298   \n",
       "\n",
       "      driver_count   type  \n",
       "0                5  Urban  \n",
       "1               72  Urban  \n",
       "2               57  Urban  \n",
       "3               34  Urban  \n",
       "4               46  Urban  \n",
       "5               10  Urban  \n",
       "6               44  Urban  \n",
       "7               21  Urban  \n",
       "8                4  Urban  \n",
       "9               33  Urban  \n",
       "10              33  Urban  \n",
       "11              48  Urban  \n",
       "12              34  Urban  \n",
       "13              48  Urban  \n",
       "14              47  Urban  \n",
       "15               6  Urban  \n",
       "16              46  Urban  \n",
       "17              17  Urban  \n",
       "18              70  Urban  \n",
       "19              33  Urban  \n",
       "20              47  Urban  \n",
       "21              44  Urban  \n",
       "22              25  Urban  \n",
       "23              49  Urban  \n",
       "24              45  Urban  \n",
       "25              73  Urban  \n",
       "26              28  Urban  \n",
       "27              23  Urban  \n",
       "28              37  Urban  \n",
       "29              10  Urban  \n",
       "...            ...    ...  \n",
       "2345             4  Rural  \n",
       "2346             4  Rural  \n",
       "2347             4  Rural  \n",
       "2348             7  Rural  \n",
       "2349             4  Rural  \n",
       "2350             7  Rural  \n",
       "2351             7  Rural  \n",
       "2352             9  Rural  \n",
       "2353             4  Rural  \n",
       "2354             7  Rural  \n",
       "2355             8  Rural  \n",
       "2356             2  Rural  \n",
       "2357             4  Rural  \n",
       "2358             2  Rural  \n",
       "2359             1  Rural  \n",
       "2360             1  Rural  \n",
       "2361             6  Rural  \n",
       "2362             8  Rural  \n",
       "2363             6  Rural  \n",
       "2364             4  Rural  \n",
       "2365             4  Rural  \n",
       "2366             8  Rural  \n",
       "2367             6  Rural  \n",
       "2368             4  Rural  \n",
       "2369             7  Rural  \n",
       "2370             6  Rural  \n",
       "2371             2  Rural  \n",
       "2372             1  Rural  \n",
       "2373             4  Rural  \n",
       "2374             1  Rural  \n",
       "\n",
       "[2375 rows x 6 columns]"
      ],
      "text/html": "<div>\n<style scoped>\n    .dataframe tbody tr th:only-of-type {\n        vertical-align: middle;\n    }\n\n    .dataframe tbody tr th {\n        vertical-align: top;\n    }\n\n    .dataframe thead th {\n        text-align: right;\n    }\n</style>\n<table border=\"1\" class=\"dataframe\">\n  <thead>\n    <tr style=\"text-align: right;\">\n      <th></th>\n      <th>city</th>\n      <th>date</th>\n      <th>fare</th>\n      <th>ride_id</th>\n      <th>driver_count</th>\n      <th>type</th>\n    </tr>\n  </thead>\n  <tbody>\n    <tr>\n      <th>0</th>\n      <td>Lake Jonathanshire</td>\n      <td>2019-01-14 10:14:22</td>\n      <td>13.83</td>\n      <td>5739410935873</td>\n      <td>5</td>\n      <td>Urban</td>\n    </tr>\n    <tr>\n      <th>1</th>\n      <td>South Michelleport</td>\n      <td>2019-03-04 18:24:09</td>\n      <td>30.24</td>\n      <td>2343912425577</td>\n      <td>72</td>\n      <td>Urban</td>\n    </tr>\n    <tr>\n      <th>2</th>\n      <td>Port Samanthamouth</td>\n      <td>2019-02-24 04:29:00</td>\n      <td>33.44</td>\n      <td>2005065760003</td>\n      <td>57</td>\n      <td>Urban</td>\n    </tr>\n    <tr>\n      <th>3</th>\n      <td>Rodneyfort</td>\n      <td>2019-02-10 23:22:03</td>\n      <td>23.44</td>\n      <td>5149245426178</td>\n      <td>34</td>\n      <td>Urban</td>\n    </tr>\n    <tr>\n      <th>4</th>\n      <td>South Jack</td>\n      <td>2019-03-06 04:28:35</td>\n      <td>34.58</td>\n      <td>3908451377344</td>\n      <td>46</td>\n      <td>Urban</td>\n    </tr>\n    <tr>\n      <th>5</th>\n      <td>South Latoya</td>\n      <td>2019-03-11 12:26:48</td>\n      <td>9.52</td>\n      <td>1994999424437</td>\n      <td>10</td>\n      <td>Urban</td>\n    </tr>\n    <tr>\n      <th>6</th>\n      <td>New Paulville</td>\n      <td>2019-02-27 11:17:56</td>\n      <td>43.25</td>\n      <td>793208410091</td>\n      <td>44</td>\n      <td>Urban</td>\n    </tr>\n    <tr>\n      <th>7</th>\n      <td>Simpsonburgh</td>\n      <td>2019-04-26 00:43:24</td>\n      <td>35.98</td>\n      <td>111953927754</td>\n      <td>21</td>\n      <td>Urban</td>\n    </tr>\n    <tr>\n      <th>8</th>\n      <td>South Karenland</td>\n      <td>2019-01-08 03:28:48</td>\n      <td>35.09</td>\n      <td>7995623208694</td>\n      <td>4</td>\n      <td>Urban</td>\n    </tr>\n    <tr>\n      <th>9</th>\n      <td>North Jasmine</td>\n      <td>2019-03-09 06:26:29</td>\n      <td>42.81</td>\n      <td>5327642267789</td>\n      <td>33</td>\n      <td>Urban</td>\n    </tr>\n    <tr>\n      <th>10</th>\n      <td>New Kimberlyborough</td>\n      <td>2019-02-07 01:10:11</td>\n      <td>9.34</td>\n      <td>7992781920789</td>\n      <td>33</td>\n      <td>Urban</td>\n    </tr>\n    <tr>\n      <th>11</th>\n      <td>West Angela</td>\n      <td>2019-01-12 01:45:27</td>\n      <td>26.86</td>\n      <td>4820052223501</td>\n      <td>48</td>\n      <td>Urban</td>\n    </tr>\n    <tr>\n      <th>12</th>\n      <td>Rodneyfort</td>\n      <td>2019-03-02 18:03:20</td>\n      <td>44.26</td>\n      <td>2494064867705</td>\n      <td>34</td>\n      <td>Urban</td>\n    </tr>\n    <tr>\n      <th>13</th>\n      <td>West Angela</td>\n      <td>2019-01-10 12:17:31</td>\n      <td>12.74</td>\n      <td>2108723916092</td>\n      <td>48</td>\n      <td>Urban</td>\n    </tr>\n    <tr>\n      <th>14</th>\n      <td>Roberthaven</td>\n      <td>2019-05-04 14:48:56</td>\n      <td>25.66</td>\n      <td>1026197778354</td>\n      <td>47</td>\n      <td>Urban</td>\n    </tr>\n    <tr>\n      <th>15</th>\n      <td>North Jason</td>\n      <td>2019-03-28 22:28:44</td>\n      <td>9.19</td>\n      <td>7007022521141</td>\n      <td>6</td>\n      <td>Urban</td>\n    </tr>\n    <tr>\n      <th>16</th>\n      <td>Williamsview</td>\n      <td>2019-01-03 16:19:25</td>\n      <td>18.93</td>\n      <td>1979492913169</td>\n      <td>46</td>\n      <td>Urban</td>\n    </tr>\n    <tr>\n      <th>17</th>\n      <td>Leahton</td>\n      <td>2019-02-26 18:42:15</td>\n      <td>8.85</td>\n      <td>6966668662612</td>\n      <td>17</td>\n      <td>Urban</td>\n    </tr>\n    <tr>\n      <th>18</th>\n      <td>West Anthony</td>\n      <td>2019-03-06 02:27:01</td>\n      <td>10.02</td>\n      <td>9396763280782</td>\n      <td>70</td>\n      <td>Urban</td>\n    </tr>\n    <tr>\n      <th>19</th>\n      <td>New Kimberlyborough</td>\n      <td>2019-04-25 22:58:38</td>\n      <td>29.67</td>\n      <td>4823568522144</td>\n      <td>33</td>\n      <td>Urban</td>\n    </tr>\n    <tr>\n      <th>20</th>\n      <td>Roberthaven</td>\n      <td>2019-02-24 10:26:34</td>\n      <td>7.80</td>\n      <td>2180566685151</td>\n      <td>47</td>\n      <td>Urban</td>\n    </tr>\n    <tr>\n      <th>21</th>\n      <td>New Paulton</td>\n      <td>2019-05-01 03:12:49</td>\n      <td>8.28</td>\n      <td>8527101897862</td>\n      <td>44</td>\n      <td>Urban</td>\n    </tr>\n    <tr>\n      <th>22</th>\n      <td>West Patrickchester</td>\n      <td>2019-03-19 05:46:20</td>\n      <td>40.86</td>\n      <td>898889456779</td>\n      <td>25</td>\n      <td>Urban</td>\n    </tr>\n    <tr>\n      <th>23</th>\n      <td>Deanville</td>\n      <td>2019-04-25 03:29:09</td>\n      <td>41.52</td>\n      <td>6055928921559</td>\n      <td>49</td>\n      <td>Urban</td>\n    </tr>\n    <tr>\n      <th>24</th>\n      <td>West Josephberg</td>\n      <td>2019-02-19 16:22:09</td>\n      <td>36.39</td>\n      <td>3322126516683</td>\n      <td>45</td>\n      <td>Urban</td>\n    </tr>\n    <tr>\n      <th>25</th>\n      <td>West Samuelburgh</td>\n      <td>2019-05-03 14:33:41</td>\n      <td>41.12</td>\n      <td>7330842806458</td>\n      <td>73</td>\n      <td>Urban</td>\n    </tr>\n    <tr>\n      <th>26</th>\n      <td>West Heidi</td>\n      <td>2019-03-14 23:46:50</td>\n      <td>24.40</td>\n      <td>4908573010166</td>\n      <td>28</td>\n      <td>Urban</td>\n    </tr>\n    <tr>\n      <th>27</th>\n      <td>Loganberg</td>\n      <td>2019-04-01 01:06:03</td>\n      <td>8.23</td>\n      <td>678728883160</td>\n      <td>23</td>\n      <td>Urban</td>\n    </tr>\n    <tr>\n      <th>28</th>\n      <td>Huntermouth</td>\n      <td>2019-02-10 23:32:13</td>\n      <td>25.79</td>\n      <td>1880379662035</td>\n      <td>37</td>\n      <td>Urban</td>\n    </tr>\n    <tr>\n      <th>29</th>\n      <td>South Latoya</td>\n      <td>2019-01-11 18:44:14</td>\n      <td>27.41</td>\n      <td>8662301917375</td>\n      <td>10</td>\n      <td>Urban</td>\n    </tr>\n    <tr>\n      <th>...</th>\n      <td>...</td>\n      <td>...</td>\n      <td>...</td>\n      <td>...</td>\n      <td>...</td>\n      <td>...</td>\n    </tr>\n    <tr>\n      <th>2345</th>\n      <td>West Heather</td>\n      <td>2019-02-04 16:29:23</td>\n      <td>13.97</td>\n      <td>7118893881453</td>\n      <td>4</td>\n      <td>Rural</td>\n    </tr>\n    <tr>\n      <th>2346</th>\n      <td>West Heather</td>\n      <td>2019-04-18 19:33:12</td>\n      <td>46.60</td>\n      <td>3671003215967</td>\n      <td>4</td>\n      <td>Rural</td>\n    </tr>\n    <tr>\n      <th>2347</th>\n      <td>West Heather</td>\n      <td>2019-03-02 21:04:10</td>\n      <td>20.99</td>\n      <td>5766454453070</td>\n      <td>4</td>\n      <td>Rural</td>\n    </tr>\n    <tr>\n      <th>2348</th>\n      <td>South Saramouth</td>\n      <td>2019-01-28 15:55:33</td>\n      <td>31.25</td>\n      <td>7118046558393</td>\n      <td>7</td>\n      <td>Rural</td>\n    </tr>\n    <tr>\n      <th>2349</th>\n      <td>West Heather</td>\n      <td>2019-03-06 20:06:51</td>\n      <td>48.11</td>\n      <td>2570548892682</td>\n      <td>4</td>\n      <td>Rural</td>\n    </tr>\n    <tr>\n      <th>2350</th>\n      <td>Garzaport</td>\n      <td>2019-05-06 16:57:16</td>\n      <td>18.90</td>\n      <td>8826696981094</td>\n      <td>7</td>\n      <td>Rural</td>\n    </tr>\n    <tr>\n      <th>2351</th>\n      <td>South Saramouth</td>\n      <td>2019-03-27 21:07:16</td>\n      <td>11.87</td>\n      <td>170351888128</td>\n      <td>7</td>\n      <td>Rural</td>\n    </tr>\n    <tr>\n      <th>2352</th>\n      <td>Randallchester</td>\n      <td>2019-04-07 23:42:07</td>\n      <td>10.79</td>\n      <td>1615474447641</td>\n      <td>9</td>\n      <td>Rural</td>\n    </tr>\n    <tr>\n      <th>2353</th>\n      <td>Harringtonfort</td>\n      <td>2019-01-09 15:30:35</td>\n      <td>31.84</td>\n      <td>3730685356921</td>\n      <td>4</td>\n      <td>Rural</td>\n    </tr>\n    <tr>\n      <th>2354</th>\n      <td>South Saramouth</td>\n      <td>2019-04-12 18:11:50</td>\n      <td>57.23</td>\n      <td>5081198789583</td>\n      <td>7</td>\n      <td>Rural</td>\n    </tr>\n    <tr>\n      <th>2355</th>\n      <td>North Holly</td>\n      <td>2019-01-03 19:51:01</td>\n      <td>19.90</td>\n      <td>5559509612597</td>\n      <td>8</td>\n      <td>Rural</td>\n    </tr>\n    <tr>\n      <th>2356</th>\n      <td>New Ryantown</td>\n      <td>2019-05-05 19:29:38</td>\n      <td>26.53</td>\n      <td>2302209966018</td>\n      <td>2</td>\n      <td>Rural</td>\n    </tr>\n    <tr>\n      <th>2357</th>\n      <td>West Heather</td>\n      <td>2019-02-02 06:28:04</td>\n      <td>53.07</td>\n      <td>2462950442268</td>\n      <td>4</td>\n      <td>Rural</td>\n    </tr>\n    <tr>\n      <th>2358</th>\n      <td>Lake Latoyabury</td>\n      <td>2019-02-25 04:10:19</td>\n      <td>16.18</td>\n      <td>8492924830016</td>\n      <td>2</td>\n      <td>Rural</td>\n    </tr>\n    <tr>\n      <th>2359</th>\n      <td>South Marychester</td>\n      <td>2019-01-19 11:40:46</td>\n      <td>49.44</td>\n      <td>90058815985</td>\n      <td>1</td>\n      <td>Rural</td>\n    </tr>\n    <tr>\n      <th>2360</th>\n      <td>Jessicaport</td>\n      <td>2019-01-31 17:57:25</td>\n      <td>58.29</td>\n      <td>623154556195</td>\n      <td>1</td>\n      <td>Rural</td>\n    </tr>\n    <tr>\n      <th>2361</th>\n      <td>Michaelberg</td>\n      <td>2019-03-22 22:20:54</td>\n      <td>38.30</td>\n      <td>8032727406577</td>\n      <td>6</td>\n      <td>Rural</td>\n    </tr>\n    <tr>\n      <th>2362</th>\n      <td>North Holly</td>\n      <td>2019-04-18 19:26:25</td>\n      <td>30.94</td>\n      <td>3441061016826</td>\n      <td>8</td>\n      <td>Rural</td>\n    </tr>\n    <tr>\n      <th>2363</th>\n      <td>Michaelberg</td>\n      <td>2019-03-13 14:40:18</td>\n      <td>37.72</td>\n      <td>8842606115175</td>\n      <td>6</td>\n      <td>Rural</td>\n    </tr>\n    <tr>\n      <th>2364</th>\n      <td>Lake Jamie</td>\n      <td>2019-02-25 23:46:02</td>\n      <td>28.65</td>\n      <td>5815763839331</td>\n      <td>4</td>\n      <td>Rural</td>\n    </tr>\n    <tr>\n      <th>2365</th>\n      <td>Lake Jamie</td>\n      <td>2019-04-19 04:32:47</td>\n      <td>16.29</td>\n      <td>3518682119233</td>\n      <td>4</td>\n      <td>Rural</td>\n    </tr>\n    <tr>\n      <th>2366</th>\n      <td>North Holly</td>\n      <td>2019-03-18 10:38:05</td>\n      <td>40.34</td>\n      <td>3787775176860</td>\n      <td>8</td>\n      <td>Rural</td>\n    </tr>\n    <tr>\n      <th>2367</th>\n      <td>Michaelberg</td>\n      <td>2019-01-27 18:43:05</td>\n      <td>38.42</td>\n      <td>862622008020</td>\n      <td>6</td>\n      <td>Rural</td>\n    </tr>\n    <tr>\n      <th>2368</th>\n      <td>Lake Jamie</td>\n      <td>2019-04-29 01:58:44</td>\n      <td>54.22</td>\n      <td>2489264790267</td>\n      <td>4</td>\n      <td>Rural</td>\n    </tr>\n    <tr>\n      <th>2369</th>\n      <td>Bradshawfurt</td>\n      <td>2019-01-30 10:55:23</td>\n      <td>51.39</td>\n      <td>1328274868072</td>\n      <td>7</td>\n      <td>Rural</td>\n    </tr>\n    <tr>\n      <th>2370</th>\n      <td>Michaelberg</td>\n      <td>2019-04-29 17:04:39</td>\n      <td>13.38</td>\n      <td>8550365057598</td>\n      <td>6</td>\n      <td>Rural</td>\n    </tr>\n    <tr>\n      <th>2371</th>\n      <td>Lake Latoyabury</td>\n      <td>2019-01-30 00:05:47</td>\n      <td>20.76</td>\n      <td>9018727594352</td>\n      <td>2</td>\n      <td>Rural</td>\n    </tr>\n    <tr>\n      <th>2372</th>\n      <td>North Jaime</td>\n      <td>2019-02-10 21:03:50</td>\n      <td>11.11</td>\n      <td>2781339863778</td>\n      <td>1</td>\n      <td>Rural</td>\n    </tr>\n    <tr>\n      <th>2373</th>\n      <td>West Heather</td>\n      <td>2019-05-07 19:22:15</td>\n      <td>44.94</td>\n      <td>4256853490277</td>\n      <td>4</td>\n      <td>Rural</td>\n    </tr>\n    <tr>\n      <th>2374</th>\n      <td>Newtonview</td>\n      <td>2019-04-25 10:20:13</td>\n      <td>55.84</td>\n      <td>9990581345298</td>\n      <td>1</td>\n      <td>Rural</td>\n    </tr>\n  </tbody>\n</table>\n<p>2375 rows × 6 columns</p>\n</div>"
     },
     "metadata": {},
     "execution_count": 3
    }
   ],
   "source": [
    "# Combine the data into a single dataset\n",
    "pyber_data_df = pd.merge(ride_data_df, city_data_df, how=\"left\", on=[\"city\", \"city\"])\n",
    "\n",
    "# Display the data table for preview\n",
    "pyber_data_df"
   ]
  },
  {
   "cell_type": "markdown",
   "metadata": {},
   "source": [
    "## Deliverable 1: Get a Summary DataFrame "
   ]
  },
  {
   "cell_type": "code",
   "execution_count": 25,
   "metadata": {},
   "outputs": [
    {
     "output_type": "execute_result",
     "data": {
      "text/plain": [
       "type\n",
       "Rural        125\n",
       "Suburban     625\n",
       "Urban       1625\n",
       "Name: ride_id, dtype: int64"
      ]
     },
     "metadata": {},
     "execution_count": 25
    }
   ],
   "source": [
    "#  1. Get the total rides for each city type\n",
    "ride_types = pyber_data_df[\"type\"].unique()\n",
    "ride_per_ctype = pyber_data_df.groupby([\"type\"]).count()[\"ride_id\"]\n",
    "ride_per_ctype"
   ]
  },
  {
   "cell_type": "code",
   "execution_count": 17,
   "metadata": {},
   "outputs": [
    {
     "output_type": "execute_result",
     "data": {
      "text/plain": [
       "type\n",
       "Rural         78\n",
       "Suburban     490\n",
       "Urban       2405\n",
       "Name: driver_count, dtype: int64"
      ]
     },
     "metadata": {},
     "execution_count": 17
    }
   ],
   "source": [
    "# 2. Get the total drivers for each city type\n",
    "driver_per_ctype = city_data_df.groupby([\"type\"]).sum()[\"driver_count\"]\n",
    "driver_per_ctype"
   ]
  },
  {
   "cell_type": "code",
   "execution_count": 19,
   "metadata": {},
   "outputs": [
    {
     "output_type": "execute_result",
     "data": {
      "text/plain": [
       "type\n",
       "Rural        4327.93\n",
       "Suburban    19356.33\n",
       "Urban       39854.38\n",
       "Name: fare, dtype: float64"
      ]
     },
     "metadata": {},
     "execution_count": 19
    }
   ],
   "source": [
    "#  3. Get the total amount of fares for each city type\n",
    "total_fare_per_ctype = pyber_data_df.groupby([\"type\"]).sum()[\"fare\"]\n",
    "total_fare_per_ctype"
   ]
  },
  {
   "cell_type": "code",
   "execution_count": 21,
   "metadata": {},
   "outputs": [
    {
     "output_type": "execute_result",
     "data": {
      "text/plain": [
       "type\n",
       "Rural       34.623440\n",
       "Suburban    30.970128\n",
       "Urban       24.525772\n",
       "Name: fare, dtype: float64"
      ]
     },
     "metadata": {},
     "execution_count": 21
    }
   ],
   "source": [
    "#  4. Get the average fare per ride for each city type. \n",
    "avg_fare_per_ctype = pyber_data_df.groupby([\"type\"]).mean()[\"fare\"]\n",
    "avg_fare_per_ctype"
   ]
  },
  {
   "cell_type": "code",
   "execution_count": 23,
   "metadata": {},
   "outputs": [
    {
     "output_type": "execute_result",
     "data": {
      "text/plain": [
       "type\n",
       "Rural       55.486282\n",
       "Suburban    39.502714\n",
       "Urban       16.571468\n",
       "dtype: float64"
      ]
     },
     "metadata": {},
     "execution_count": 23
    }
   ],
   "source": [
    "# 5. Get the average fare per driver for each city type. \n",
    "avg_fare_per_driver_per_ctype = total_fare_per_ctype / driver_per_ctype\n",
    "avg_fare_per_driver_per_ctype"
   ]
  },
  {
   "cell_type": "code",
   "execution_count": 30,
   "metadata": {},
   "outputs": [
    {
     "output_type": "execute_result",
     "data": {
      "text/plain": [
       "          Total Drivers  Total Fare  Average Fare  Average Fare Per Driver\n",
       "Rural                78     4327.93     34.623440                55.486282\n",
       "Suburban            490    19356.33     30.970128                39.502714\n",
       "Urban              2405    39854.38     24.525772                16.571468"
      ],
      "text/html": "<div>\n<style scoped>\n    .dataframe tbody tr th:only-of-type {\n        vertical-align: middle;\n    }\n\n    .dataframe tbody tr th {\n        vertical-align: top;\n    }\n\n    .dataframe thead th {\n        text-align: right;\n    }\n</style>\n<table border=\"1\" class=\"dataframe\">\n  <thead>\n    <tr style=\"text-align: right;\">\n      <th></th>\n      <th>Total Drivers</th>\n      <th>Total Fare</th>\n      <th>Average Fare</th>\n      <th>Average Fare Per Driver</th>\n    </tr>\n  </thead>\n  <tbody>\n    <tr>\n      <th>Rural</th>\n      <td>78</td>\n      <td>4327.93</td>\n      <td>34.623440</td>\n      <td>55.486282</td>\n    </tr>\n    <tr>\n      <th>Suburban</th>\n      <td>490</td>\n      <td>19356.33</td>\n      <td>30.970128</td>\n      <td>39.502714</td>\n    </tr>\n    <tr>\n      <th>Urban</th>\n      <td>2405</td>\n      <td>39854.38</td>\n      <td>24.525772</td>\n      <td>16.571468</td>\n    </tr>\n  </tbody>\n</table>\n</div>"
     },
     "metadata": {},
     "execution_count": 30
    }
   ],
   "source": [
    "#  6. Create a PyBer summary DataFrame. \n",
    "pyber_summary_df = pd.DataFrame({\n",
    "    \"Total Drivers\": driver_per_ctype,\n",
    "    \"Total Fare\": total_fare_per_ctype,\n",
    "    \"Average Fare\": avg_fare_per_ctype,\n",
    "    \"Average Fare Per Driver\": avg_fare_per_driver_per_ctype })\n",
    "\n",
    "\n",
    "pyber_summary_df"
   ]
  },
  {
   "cell_type": "code",
   "execution_count": 31,
   "metadata": {},
   "outputs": [
    {
     "output_type": "execute_result",
     "data": {
      "text/plain": [
       "           Total Drivers  Total Fare  Average Fare  Average Fare Per Driver\n",
       "Ride Type                                                                  \n",
       "Rural                 78     4327.93     34.623440                55.486282\n",
       "Suburban             490    19356.33     30.970128                39.502714\n",
       "Urban               2405    39854.38     24.525772                16.571468"
      ],
      "text/html": "<div>\n<style scoped>\n    .dataframe tbody tr th:only-of-type {\n        vertical-align: middle;\n    }\n\n    .dataframe tbody tr th {\n        vertical-align: top;\n    }\n\n    .dataframe thead th {\n        text-align: right;\n    }\n</style>\n<table border=\"1\" class=\"dataframe\">\n  <thead>\n    <tr style=\"text-align: right;\">\n      <th></th>\n      <th>Total Drivers</th>\n      <th>Total Fare</th>\n      <th>Average Fare</th>\n      <th>Average Fare Per Driver</th>\n    </tr>\n    <tr>\n      <th>Ride Type</th>\n      <th></th>\n      <th></th>\n      <th></th>\n      <th></th>\n    </tr>\n  </thead>\n  <tbody>\n    <tr>\n      <th>Rural</th>\n      <td>78</td>\n      <td>4327.93</td>\n      <td>34.623440</td>\n      <td>55.486282</td>\n    </tr>\n    <tr>\n      <th>Suburban</th>\n      <td>490</td>\n      <td>19356.33</td>\n      <td>30.970128</td>\n      <td>39.502714</td>\n    </tr>\n    <tr>\n      <th>Urban</th>\n      <td>2405</td>\n      <td>39854.38</td>\n      <td>24.525772</td>\n      <td>16.571468</td>\n    </tr>\n  </tbody>\n</table>\n</div>"
     },
     "metadata": {},
     "execution_count": 31
    }
   ],
   "source": [
    "#  7. Cleaning up the DataFrame. Delete the index name\n",
    "pyber_summary_df.index.name = \"Ride Type\"\n",
    "pyber_summary_df"
   ]
  },
  {
   "cell_type": "code",
   "execution_count": 32,
   "metadata": {},
   "outputs": [
    {
     "output_type": "execute_result",
     "data": {
      "text/plain": [
       "           Total Drivers Total Fare Average Fare Average Fare Per Driver\n",
       "Ride Type                                                               \n",
       "Rural                 78    4327.93        34.62                   55.49\n",
       "Suburban             490   19356.33        30.97                   39.50\n",
       "Urban               2405   39854.38        24.53                   16.57"
      ],
      "text/html": "<div>\n<style scoped>\n    .dataframe tbody tr th:only-of-type {\n        vertical-align: middle;\n    }\n\n    .dataframe tbody tr th {\n        vertical-align: top;\n    }\n\n    .dataframe thead th {\n        text-align: right;\n    }\n</style>\n<table border=\"1\" class=\"dataframe\">\n  <thead>\n    <tr style=\"text-align: right;\">\n      <th></th>\n      <th>Total Drivers</th>\n      <th>Total Fare</th>\n      <th>Average Fare</th>\n      <th>Average Fare Per Driver</th>\n    </tr>\n    <tr>\n      <th>Ride Type</th>\n      <th></th>\n      <th></th>\n      <th></th>\n      <th></th>\n    </tr>\n  </thead>\n  <tbody>\n    <tr>\n      <th>Rural</th>\n      <td>78</td>\n      <td>4327.93</td>\n      <td>34.62</td>\n      <td>55.49</td>\n    </tr>\n    <tr>\n      <th>Suburban</th>\n      <td>490</td>\n      <td>19356.33</td>\n      <td>30.97</td>\n      <td>39.50</td>\n    </tr>\n    <tr>\n      <th>Urban</th>\n      <td>2405</td>\n      <td>39854.38</td>\n      <td>24.53</td>\n      <td>16.57</td>\n    </tr>\n  </tbody>\n</table>\n</div>"
     },
     "metadata": {},
     "execution_count": 32
    }
   ],
   "source": [
    "#  8. Format the columns.\n",
    "pyber_summary_df[\"Total Fare\"] = pyber_summary_df[\"Total Fare\"].map(\"{:.2f}\".format)\n",
    "\n",
    "pyber_summary_df[\"Average Fare\"] = pyber_summary_df[\"Average Fare\"].map(\"{:.2f}\".format)\n",
    "\n",
    "pyber_summary_df[\"Average Fare Per Driver\"] = pyber_summary_df[\"Average Fare Per Driver\"].map(\"{:.2f}\".format)\n",
    "\n",
    "pyber_summary_df\n"
   ]
  },
  {
   "cell_type": "markdown",
   "metadata": {},
   "source": [
    "## Deliverable 2.  Create a multiple line plot that shows the total weekly of the fares for each type of city."
   ]
  },
  {
   "cell_type": "code",
   "execution_count": 33,
   "metadata": {},
   "outputs": [
    {
     "output_type": "execute_result",
     "data": {
      "text/plain": [
       "                 city                 date   fare        ride_id  \\\n",
       "0  Lake Jonathanshire  2019-01-14 10:14:22  13.83  5739410935873   \n",
       "1  South Michelleport  2019-03-04 18:24:09  30.24  2343912425577   \n",
       "2  Port Samanthamouth  2019-02-24 04:29:00  33.44  2005065760003   \n",
       "3          Rodneyfort  2019-02-10 23:22:03  23.44  5149245426178   \n",
       "4          South Jack  2019-03-06 04:28:35  34.58  3908451377344   \n",
       "\n",
       "   driver_count   type  \n",
       "0             5  Urban  \n",
       "1            72  Urban  \n",
       "2            57  Urban  \n",
       "3            34  Urban  \n",
       "4            46  Urban  "
      ],
      "text/html": "<div>\n<style scoped>\n    .dataframe tbody tr th:only-of-type {\n        vertical-align: middle;\n    }\n\n    .dataframe tbody tr th {\n        vertical-align: top;\n    }\n\n    .dataframe thead th {\n        text-align: right;\n    }\n</style>\n<table border=\"1\" class=\"dataframe\">\n  <thead>\n    <tr style=\"text-align: right;\">\n      <th></th>\n      <th>city</th>\n      <th>date</th>\n      <th>fare</th>\n      <th>ride_id</th>\n      <th>driver_count</th>\n      <th>type</th>\n    </tr>\n  </thead>\n  <tbody>\n    <tr>\n      <th>0</th>\n      <td>Lake Jonathanshire</td>\n      <td>2019-01-14 10:14:22</td>\n      <td>13.83</td>\n      <td>5739410935873</td>\n      <td>5</td>\n      <td>Urban</td>\n    </tr>\n    <tr>\n      <th>1</th>\n      <td>South Michelleport</td>\n      <td>2019-03-04 18:24:09</td>\n      <td>30.24</td>\n      <td>2343912425577</td>\n      <td>72</td>\n      <td>Urban</td>\n    </tr>\n    <tr>\n      <th>2</th>\n      <td>Port Samanthamouth</td>\n      <td>2019-02-24 04:29:00</td>\n      <td>33.44</td>\n      <td>2005065760003</td>\n      <td>57</td>\n      <td>Urban</td>\n    </tr>\n    <tr>\n      <th>3</th>\n      <td>Rodneyfort</td>\n      <td>2019-02-10 23:22:03</td>\n      <td>23.44</td>\n      <td>5149245426178</td>\n      <td>34</td>\n      <td>Urban</td>\n    </tr>\n    <tr>\n      <th>4</th>\n      <td>South Jack</td>\n      <td>2019-03-06 04:28:35</td>\n      <td>34.58</td>\n      <td>3908451377344</td>\n      <td>46</td>\n      <td>Urban</td>\n    </tr>\n  </tbody>\n</table>\n</div>"
     },
     "metadata": {},
     "execution_count": 33
    }
   ],
   "source": [
    "# 1. Read the merged DataFrame\n",
    "pyber_data_df.head()"
   ]
  },
  {
   "cell_type": "code",
   "execution_count": 48,
   "metadata": {},
   "outputs": [
    {
     "output_type": "execute_result",
     "data": {
      "text/plain": [
       "date                 type    \n",
       "2019-01-01 00:08:16  Urban       37.91\n",
       "2019-01-01 00:46:46  Suburban    47.74\n",
       "2019-01-01 02:07:24  Suburban    24.07\n",
       "2019-01-01 03:46:50  Urban        7.57\n",
       "2019-01-01 05:23:21  Urban       10.75\n",
       "Name: fare, dtype: float64"
      ]
     },
     "metadata": {},
     "execution_count": 48
    }
   ],
   "source": [
    "# 2. Using groupby() to create a new DataFrame showing the sum of the fares \n",
    "#  for each date where the indices are the city type and date.\n",
    "new_df = pyber_data_df.groupby([\"date\", \"type\"]).sum()[\"fare\"]\n",
    "new_df.head()\n"
   ]
  },
  {
   "cell_type": "code",
   "execution_count": 50,
   "metadata": {},
   "outputs": [
    {
     "output_type": "execute_result",
     "data": {
      "text/plain": [
       "                  date      type   fare\n",
       "0  2019-01-01 00:08:16     Urban  37.91\n",
       "1  2019-01-01 00:46:46  Suburban  47.74\n",
       "2  2019-01-01 02:07:24  Suburban  24.07\n",
       "3  2019-01-01 03:46:50     Urban   7.57\n",
       "4  2019-01-01 05:23:21     Urban  10.75"
      ],
      "text/html": "<div>\n<style scoped>\n    .dataframe tbody tr th:only-of-type {\n        vertical-align: middle;\n    }\n\n    .dataframe tbody tr th {\n        vertical-align: top;\n    }\n\n    .dataframe thead th {\n        text-align: right;\n    }\n</style>\n<table border=\"1\" class=\"dataframe\">\n  <thead>\n    <tr style=\"text-align: right;\">\n      <th></th>\n      <th>date</th>\n      <th>type</th>\n      <th>fare</th>\n    </tr>\n  </thead>\n  <tbody>\n    <tr>\n      <th>0</th>\n      <td>2019-01-01 00:08:16</td>\n      <td>Urban</td>\n      <td>37.91</td>\n    </tr>\n    <tr>\n      <th>1</th>\n      <td>2019-01-01 00:46:46</td>\n      <td>Suburban</td>\n      <td>47.74</td>\n    </tr>\n    <tr>\n      <th>2</th>\n      <td>2019-01-01 02:07:24</td>\n      <td>Suburban</td>\n      <td>24.07</td>\n    </tr>\n    <tr>\n      <th>3</th>\n      <td>2019-01-01 03:46:50</td>\n      <td>Urban</td>\n      <td>7.57</td>\n    </tr>\n    <tr>\n      <th>4</th>\n      <td>2019-01-01 05:23:21</td>\n      <td>Urban</td>\n      <td>10.75</td>\n    </tr>\n  </tbody>\n</table>\n</div>"
     },
     "metadata": {},
     "execution_count": 50
    }
   ],
   "source": [
    "# 3. Reset the index on the DataFrame you created in #1. This is needed to use the 'pivot()' function.\n",
    "new_df = new_df.reset_index()\n",
    "new_df.head()\n"
   ]
  },
  {
   "cell_type": "code",
   "execution_count": 79,
   "metadata": {},
   "outputs": [
    {
     "output_type": "execute_result",
     "data": {
      "text/plain": [
       "                      fare                \n",
       "type                 Rural Suburban  Urban\n",
       "date                                      \n",
       "2019-01-01 00:08:16    NaN      NaN  37.91\n",
       "2019-01-01 00:46:46    NaN    47.74    NaN\n",
       "2019-01-01 02:07:24    NaN    24.07    NaN\n",
       "2019-01-01 03:46:50    NaN      NaN   7.57\n",
       "2019-01-01 05:23:21    NaN      NaN  10.75\n",
       "2019-01-01 09:45:36  43.69      NaN    NaN\n",
       "2019-01-01 12:32:48    NaN    25.56    NaN\n",
       "2019-01-01 14:40:14    NaN      NaN   5.42\n",
       "2019-01-01 14:42:25    NaN      NaN  12.31\n",
       "2019-01-01 14:52:06    NaN    31.15    NaN\n",
       "2019-01-01 17:22:58    NaN      NaN  42.11\n",
       "2019-01-01 21:04:01    NaN      NaN  11.71\n",
       "2019-01-02 00:13:08    NaN    44.71    NaN\n",
       "2019-01-02 00:44:03    NaN      NaN  43.72\n",
       "2019-01-02 00:56:53    NaN      NaN  37.34\n",
       "2019-01-02 01:41:26    NaN    49.95    NaN\n",
       "2019-01-02 01:46:40    NaN      NaN  34.79\n",
       "2019-01-02 06:55:36    NaN      NaN  16.96\n",
       "2019-01-02 07:26:53    NaN    33.57    NaN\n",
       "2019-01-02 09:28:27    NaN      NaN  19.81\n",
       "2019-01-02 09:57:04    NaN      NaN  33.06\n",
       "2019-01-02 11:18:32  52.12      NaN    NaN\n",
       "2019-01-02 11:51:32    NaN      NaN   7.45\n",
       "2019-01-02 14:14:50    NaN      NaN  13.89\n",
       "2019-01-02 15:38:25    NaN    45.32    NaN\n",
       "2019-01-02 16:22:46    NaN    47.07    NaN\n",
       "2019-01-02 16:59:55    NaN    33.62    NaN\n",
       "2019-01-02 17:52:38    NaN    20.68    NaN\n",
       "2019-01-02 20:08:57    NaN      NaN  10.19\n",
       "2019-01-02 20:52:31    NaN      NaN  33.08\n",
       "...                    ...      ...    ...\n",
       "2019-05-07 01:03:12    NaN      NaN  12.35\n",
       "2019-05-07 02:49:39    NaN    15.41    NaN\n",
       "2019-05-07 02:52:22    NaN      NaN  36.51\n",
       "2019-05-07 05:55:00    NaN      NaN   6.89\n",
       "2019-05-07 07:08:15    NaN    20.52    NaN\n",
       "2019-05-07 08:47:24    NaN      NaN  25.83\n",
       "2019-05-07 10:11:06    NaN      NaN  29.66\n",
       "2019-05-07 11:23:59    NaN      NaN  22.72\n",
       "2019-05-07 12:25:01    NaN      NaN   4.47\n",
       "2019-05-07 12:30:58    NaN      NaN  34.03\n",
       "2019-05-07 12:33:26    NaN    21.72    NaN\n",
       "2019-05-07 13:29:36    NaN    38.74    NaN\n",
       "2019-05-07 13:31:26    NaN    42.48    NaN\n",
       "2019-05-07 14:00:13    NaN    26.30    NaN\n",
       "2019-05-07 14:38:35    NaN    13.05    NaN\n",
       "2019-05-07 14:58:12    NaN      NaN  36.22\n",
       "2019-05-07 15:34:59    NaN    44.87    NaN\n",
       "2019-05-07 17:27:48    NaN      NaN   6.39\n",
       "2019-05-07 19:22:15  44.94      NaN    NaN\n",
       "2019-05-07 19:45:40    NaN    26.11    NaN\n",
       "2019-05-07 20:05:15    NaN      NaN  24.20\n",
       "2019-05-07 20:22:19    NaN      NaN  18.74\n",
       "2019-05-07 20:40:29    NaN    24.89    NaN\n",
       "2019-05-08 01:54:18    NaN      NaN  32.69\n",
       "2019-05-08 02:31:25    NaN      NaN  41.33\n",
       "2019-05-08 04:20:00    NaN      NaN  21.99\n",
       "2019-05-08 04:39:49    NaN      NaN  18.45\n",
       "2019-05-08 07:29:01    NaN      NaN  18.55\n",
       "2019-05-08 11:38:35    NaN      NaN  19.77\n",
       "2019-05-08 13:10:18    NaN      NaN  18.04\n",
       "\n",
       "[2375 rows x 3 columns]"
      ],
      "text/html": "<div>\n<style scoped>\n    .dataframe tbody tr th:only-of-type {\n        vertical-align: middle;\n    }\n\n    .dataframe tbody tr th {\n        vertical-align: top;\n    }\n\n    .dataframe thead tr th {\n        text-align: left;\n    }\n\n    .dataframe thead tr:last-of-type th {\n        text-align: right;\n    }\n</style>\n<table border=\"1\" class=\"dataframe\">\n  <thead>\n    <tr>\n      <th></th>\n      <th colspan=\"3\" halign=\"left\">fare</th>\n    </tr>\n    <tr>\n      <th>type</th>\n      <th>Rural</th>\n      <th>Suburban</th>\n      <th>Urban</th>\n    </tr>\n    <tr>\n      <th>date</th>\n      <th></th>\n      <th></th>\n      <th></th>\n    </tr>\n  </thead>\n  <tbody>\n    <tr>\n      <th>2019-01-01 00:08:16</th>\n      <td>NaN</td>\n      <td>NaN</td>\n      <td>37.91</td>\n    </tr>\n    <tr>\n      <th>2019-01-01 00:46:46</th>\n      <td>NaN</td>\n      <td>47.74</td>\n      <td>NaN</td>\n    </tr>\n    <tr>\n      <th>2019-01-01 02:07:24</th>\n      <td>NaN</td>\n      <td>24.07</td>\n      <td>NaN</td>\n    </tr>\n    <tr>\n      <th>2019-01-01 03:46:50</th>\n      <td>NaN</td>\n      <td>NaN</td>\n      <td>7.57</td>\n    </tr>\n    <tr>\n      <th>2019-01-01 05:23:21</th>\n      <td>NaN</td>\n      <td>NaN</td>\n      <td>10.75</td>\n    </tr>\n    <tr>\n      <th>2019-01-01 09:45:36</th>\n      <td>43.69</td>\n      <td>NaN</td>\n      <td>NaN</td>\n    </tr>\n    <tr>\n      <th>2019-01-01 12:32:48</th>\n      <td>NaN</td>\n      <td>25.56</td>\n      <td>NaN</td>\n    </tr>\n    <tr>\n      <th>2019-01-01 14:40:14</th>\n      <td>NaN</td>\n      <td>NaN</td>\n      <td>5.42</td>\n    </tr>\n    <tr>\n      <th>2019-01-01 14:42:25</th>\n      <td>NaN</td>\n      <td>NaN</td>\n      <td>12.31</td>\n    </tr>\n    <tr>\n      <th>2019-01-01 14:52:06</th>\n      <td>NaN</td>\n      <td>31.15</td>\n      <td>NaN</td>\n    </tr>\n    <tr>\n      <th>2019-01-01 17:22:58</th>\n      <td>NaN</td>\n      <td>NaN</td>\n      <td>42.11</td>\n    </tr>\n    <tr>\n      <th>2019-01-01 21:04:01</th>\n      <td>NaN</td>\n      <td>NaN</td>\n      <td>11.71</td>\n    </tr>\n    <tr>\n      <th>2019-01-02 00:13:08</th>\n      <td>NaN</td>\n      <td>44.71</td>\n      <td>NaN</td>\n    </tr>\n    <tr>\n      <th>2019-01-02 00:44:03</th>\n      <td>NaN</td>\n      <td>NaN</td>\n      <td>43.72</td>\n    </tr>\n    <tr>\n      <th>2019-01-02 00:56:53</th>\n      <td>NaN</td>\n      <td>NaN</td>\n      <td>37.34</td>\n    </tr>\n    <tr>\n      <th>2019-01-02 01:41:26</th>\n      <td>NaN</td>\n      <td>49.95</td>\n      <td>NaN</td>\n    </tr>\n    <tr>\n      <th>2019-01-02 01:46:40</th>\n      <td>NaN</td>\n      <td>NaN</td>\n      <td>34.79</td>\n    </tr>\n    <tr>\n      <th>2019-01-02 06:55:36</th>\n      <td>NaN</td>\n      <td>NaN</td>\n      <td>16.96</td>\n    </tr>\n    <tr>\n      <th>2019-01-02 07:26:53</th>\n      <td>NaN</td>\n      <td>33.57</td>\n      <td>NaN</td>\n    </tr>\n    <tr>\n      <th>2019-01-02 09:28:27</th>\n      <td>NaN</td>\n      <td>NaN</td>\n      <td>19.81</td>\n    </tr>\n    <tr>\n      <th>2019-01-02 09:57:04</th>\n      <td>NaN</td>\n      <td>NaN</td>\n      <td>33.06</td>\n    </tr>\n    <tr>\n      <th>2019-01-02 11:18:32</th>\n      <td>52.12</td>\n      <td>NaN</td>\n      <td>NaN</td>\n    </tr>\n    <tr>\n      <th>2019-01-02 11:51:32</th>\n      <td>NaN</td>\n      <td>NaN</td>\n      <td>7.45</td>\n    </tr>\n    <tr>\n      <th>2019-01-02 14:14:50</th>\n      <td>NaN</td>\n      <td>NaN</td>\n      <td>13.89</td>\n    </tr>\n    <tr>\n      <th>2019-01-02 15:38:25</th>\n      <td>NaN</td>\n      <td>45.32</td>\n      <td>NaN</td>\n    </tr>\n    <tr>\n      <th>2019-01-02 16:22:46</th>\n      <td>NaN</td>\n      <td>47.07</td>\n      <td>NaN</td>\n    </tr>\n    <tr>\n      <th>2019-01-02 16:59:55</th>\n      <td>NaN</td>\n      <td>33.62</td>\n      <td>NaN</td>\n    </tr>\n    <tr>\n      <th>2019-01-02 17:52:38</th>\n      <td>NaN</td>\n      <td>20.68</td>\n      <td>NaN</td>\n    </tr>\n    <tr>\n      <th>2019-01-02 20:08:57</th>\n      <td>NaN</td>\n      <td>NaN</td>\n      <td>10.19</td>\n    </tr>\n    <tr>\n      <th>2019-01-02 20:52:31</th>\n      <td>NaN</td>\n      <td>NaN</td>\n      <td>33.08</td>\n    </tr>\n    <tr>\n      <th>...</th>\n      <td>...</td>\n      <td>...</td>\n      <td>...</td>\n    </tr>\n    <tr>\n      <th>2019-05-07 01:03:12</th>\n      <td>NaN</td>\n      <td>NaN</td>\n      <td>12.35</td>\n    </tr>\n    <tr>\n      <th>2019-05-07 02:49:39</th>\n      <td>NaN</td>\n      <td>15.41</td>\n      <td>NaN</td>\n    </tr>\n    <tr>\n      <th>2019-05-07 02:52:22</th>\n      <td>NaN</td>\n      <td>NaN</td>\n      <td>36.51</td>\n    </tr>\n    <tr>\n      <th>2019-05-07 05:55:00</th>\n      <td>NaN</td>\n      <td>NaN</td>\n      <td>6.89</td>\n    </tr>\n    <tr>\n      <th>2019-05-07 07:08:15</th>\n      <td>NaN</td>\n      <td>20.52</td>\n      <td>NaN</td>\n    </tr>\n    <tr>\n      <th>2019-05-07 08:47:24</th>\n      <td>NaN</td>\n      <td>NaN</td>\n      <td>25.83</td>\n    </tr>\n    <tr>\n      <th>2019-05-07 10:11:06</th>\n      <td>NaN</td>\n      <td>NaN</td>\n      <td>29.66</td>\n    </tr>\n    <tr>\n      <th>2019-05-07 11:23:59</th>\n      <td>NaN</td>\n      <td>NaN</td>\n      <td>22.72</td>\n    </tr>\n    <tr>\n      <th>2019-05-07 12:25:01</th>\n      <td>NaN</td>\n      <td>NaN</td>\n      <td>4.47</td>\n    </tr>\n    <tr>\n      <th>2019-05-07 12:30:58</th>\n      <td>NaN</td>\n      <td>NaN</td>\n      <td>34.03</td>\n    </tr>\n    <tr>\n      <th>2019-05-07 12:33:26</th>\n      <td>NaN</td>\n      <td>21.72</td>\n      <td>NaN</td>\n    </tr>\n    <tr>\n      <th>2019-05-07 13:29:36</th>\n      <td>NaN</td>\n      <td>38.74</td>\n      <td>NaN</td>\n    </tr>\n    <tr>\n      <th>2019-05-07 13:31:26</th>\n      <td>NaN</td>\n      <td>42.48</td>\n      <td>NaN</td>\n    </tr>\n    <tr>\n      <th>2019-05-07 14:00:13</th>\n      <td>NaN</td>\n      <td>26.30</td>\n      <td>NaN</td>\n    </tr>\n    <tr>\n      <th>2019-05-07 14:38:35</th>\n      <td>NaN</td>\n      <td>13.05</td>\n      <td>NaN</td>\n    </tr>\n    <tr>\n      <th>2019-05-07 14:58:12</th>\n      <td>NaN</td>\n      <td>NaN</td>\n      <td>36.22</td>\n    </tr>\n    <tr>\n      <th>2019-05-07 15:34:59</th>\n      <td>NaN</td>\n      <td>44.87</td>\n      <td>NaN</td>\n    </tr>\n    <tr>\n      <th>2019-05-07 17:27:48</th>\n      <td>NaN</td>\n      <td>NaN</td>\n      <td>6.39</td>\n    </tr>\n    <tr>\n      <th>2019-05-07 19:22:15</th>\n      <td>44.94</td>\n      <td>NaN</td>\n      <td>NaN</td>\n    </tr>\n    <tr>\n      <th>2019-05-07 19:45:40</th>\n      <td>NaN</td>\n      <td>26.11</td>\n      <td>NaN</td>\n    </tr>\n    <tr>\n      <th>2019-05-07 20:05:15</th>\n      <td>NaN</td>\n      <td>NaN</td>\n      <td>24.20</td>\n    </tr>\n    <tr>\n      <th>2019-05-07 20:22:19</th>\n      <td>NaN</td>\n      <td>NaN</td>\n      <td>18.74</td>\n    </tr>\n    <tr>\n      <th>2019-05-07 20:40:29</th>\n      <td>NaN</td>\n      <td>24.89</td>\n      <td>NaN</td>\n    </tr>\n    <tr>\n      <th>2019-05-08 01:54:18</th>\n      <td>NaN</td>\n      <td>NaN</td>\n      <td>32.69</td>\n    </tr>\n    <tr>\n      <th>2019-05-08 02:31:25</th>\n      <td>NaN</td>\n      <td>NaN</td>\n      <td>41.33</td>\n    </tr>\n    <tr>\n      <th>2019-05-08 04:20:00</th>\n      <td>NaN</td>\n      <td>NaN</td>\n      <td>21.99</td>\n    </tr>\n    <tr>\n      <th>2019-05-08 04:39:49</th>\n      <td>NaN</td>\n      <td>NaN</td>\n      <td>18.45</td>\n    </tr>\n    <tr>\n      <th>2019-05-08 07:29:01</th>\n      <td>NaN</td>\n      <td>NaN</td>\n      <td>18.55</td>\n    </tr>\n    <tr>\n      <th>2019-05-08 11:38:35</th>\n      <td>NaN</td>\n      <td>NaN</td>\n      <td>19.77</td>\n    </tr>\n    <tr>\n      <th>2019-05-08 13:10:18</th>\n      <td>NaN</td>\n      <td>NaN</td>\n      <td>18.04</td>\n    </tr>\n  </tbody>\n</table>\n<p>2375 rows × 3 columns</p>\n</div>"
     },
     "metadata": {},
     "execution_count": 79
    }
   ],
   "source": [
    "# 4. Create a pivot table with the 'date' as the index, the columns ='type', and values='fare' \n",
    "# to get the total fares for each type of city by the date. \n",
    "table = pd.pivot_table(data=new_df,index=['date'] , values = ['fare'], columns= ['type'] )\n",
    "table"
   ]
  },
  {
   "cell_type": "code",
   "execution_count": 81,
   "metadata": {},
   "outputs": [
    {
     "output_type": "execute_result",
     "data": {
      "text/plain": [
       "                      fare                \n",
       "type                 Rural Suburban  Urban\n",
       "date                                      \n",
       "2019-01-01 00:08:16    NaN      NaN  37.91\n",
       "2019-01-01 00:46:46    NaN    47.74    NaN\n",
       "2019-01-01 02:07:24    NaN    24.07    NaN\n",
       "2019-01-01 03:46:50    NaN      NaN   7.57\n",
       "2019-01-01 05:23:21    NaN      NaN  10.75\n",
       "2019-01-01 09:45:36  43.69      NaN    NaN\n",
       "2019-01-01 12:32:48    NaN    25.56    NaN\n",
       "2019-01-01 14:40:14    NaN      NaN   5.42\n",
       "2019-01-01 14:42:25    NaN      NaN  12.31\n",
       "2019-01-01 14:52:06    NaN    31.15    NaN\n",
       "2019-01-01 17:22:58    NaN      NaN  42.11\n",
       "2019-01-01 21:04:01    NaN      NaN  11.71\n",
       "2019-01-02 00:13:08    NaN    44.71    NaN\n",
       "2019-01-02 00:44:03    NaN      NaN  43.72\n",
       "2019-01-02 00:56:53    NaN      NaN  37.34\n",
       "2019-01-02 01:41:26    NaN    49.95    NaN\n",
       "2019-01-02 01:46:40    NaN      NaN  34.79\n",
       "2019-01-02 06:55:36    NaN      NaN  16.96\n",
       "2019-01-02 07:26:53    NaN    33.57    NaN\n",
       "2019-01-02 09:28:27    NaN      NaN  19.81\n",
       "2019-01-02 09:57:04    NaN      NaN  33.06\n",
       "2019-01-02 11:18:32  52.12      NaN    NaN\n",
       "2019-01-02 11:51:32    NaN      NaN   7.45\n",
       "2019-01-02 14:14:50    NaN      NaN  13.89\n",
       "2019-01-02 15:38:25    NaN    45.32    NaN\n",
       "2019-01-02 16:22:46    NaN    47.07    NaN\n",
       "2019-01-02 16:59:55    NaN    33.62    NaN\n",
       "2019-01-02 17:52:38    NaN    20.68    NaN\n",
       "2019-01-02 20:08:57    NaN      NaN  10.19\n",
       "2019-01-02 20:52:31    NaN      NaN  33.08\n",
       "...                    ...      ...    ...\n",
       "2019-04-27 12:41:46    NaN      NaN  18.99\n",
       "2019-04-27 14:11:38    NaN      NaN  37.60\n",
       "2019-04-27 14:37:32    NaN    45.77    NaN\n",
       "2019-04-27 14:57:38    NaN      NaN  44.73\n",
       "2019-04-27 16:20:00    NaN      NaN   6.62\n",
       "2019-04-27 16:22:23    NaN      NaN  25.67\n",
       "2019-04-27 17:58:27  14.01      NaN    NaN\n",
       "2019-04-27 19:45:48    NaN    28.84    NaN\n",
       "2019-04-27 20:41:36    NaN      NaN   8.28\n",
       "2019-04-27 23:26:03    NaN      NaN  19.06\n",
       "2019-04-27 23:52:44    NaN    45.98    NaN\n",
       "2019-04-28 00:26:35    NaN      NaN   5.42\n",
       "2019-04-28 00:56:58    NaN    26.61    NaN\n",
       "2019-04-28 02:38:11    NaN      NaN  39.41\n",
       "2019-04-28 04:00:40    NaN      NaN  39.82\n",
       "2019-04-28 04:21:34    NaN    27.86    NaN\n",
       "2019-04-28 04:34:56    NaN      NaN  40.46\n",
       "2019-04-28 08:15:09    NaN      NaN  22.86\n",
       "2019-04-28 09:03:54    NaN      NaN  15.00\n",
       "2019-04-28 09:10:04    NaN      NaN   5.73\n",
       "2019-04-28 09:25:03    NaN      NaN  37.35\n",
       "2019-04-28 10:54:14    NaN      NaN  10.07\n",
       "2019-04-28 11:40:49    NaN    43.22    NaN\n",
       "2019-04-28 11:49:26    NaN    39.19    NaN\n",
       "2019-04-28 12:48:34    NaN      NaN  33.35\n",
       "2019-04-28 14:28:36    NaN      NaN  11.46\n",
       "2019-04-28 16:29:16    NaN      NaN  36.42\n",
       "2019-04-28 17:26:52    NaN      NaN  31.43\n",
       "2019-04-28 17:38:09    NaN    34.87    NaN\n",
       "2019-04-28 19:35:03    NaN    16.96    NaN\n",
       "\n",
       "[2196 rows x 3 columns]"
      ],
      "text/html": "<div>\n<style scoped>\n    .dataframe tbody tr th:only-of-type {\n        vertical-align: middle;\n    }\n\n    .dataframe tbody tr th {\n        vertical-align: top;\n    }\n\n    .dataframe thead tr th {\n        text-align: left;\n    }\n\n    .dataframe thead tr:last-of-type th {\n        text-align: right;\n    }\n</style>\n<table border=\"1\" class=\"dataframe\">\n  <thead>\n    <tr>\n      <th></th>\n      <th colspan=\"3\" halign=\"left\">fare</th>\n    </tr>\n    <tr>\n      <th>type</th>\n      <th>Rural</th>\n      <th>Suburban</th>\n      <th>Urban</th>\n    </tr>\n    <tr>\n      <th>date</th>\n      <th></th>\n      <th></th>\n      <th></th>\n    </tr>\n  </thead>\n  <tbody>\n    <tr>\n      <th>2019-01-01 00:08:16</th>\n      <td>NaN</td>\n      <td>NaN</td>\n      <td>37.91</td>\n    </tr>\n    <tr>\n      <th>2019-01-01 00:46:46</th>\n      <td>NaN</td>\n      <td>47.74</td>\n      <td>NaN</td>\n    </tr>\n    <tr>\n      <th>2019-01-01 02:07:24</th>\n      <td>NaN</td>\n      <td>24.07</td>\n      <td>NaN</td>\n    </tr>\n    <tr>\n      <th>2019-01-01 03:46:50</th>\n      <td>NaN</td>\n      <td>NaN</td>\n      <td>7.57</td>\n    </tr>\n    <tr>\n      <th>2019-01-01 05:23:21</th>\n      <td>NaN</td>\n      <td>NaN</td>\n      <td>10.75</td>\n    </tr>\n    <tr>\n      <th>2019-01-01 09:45:36</th>\n      <td>43.69</td>\n      <td>NaN</td>\n      <td>NaN</td>\n    </tr>\n    <tr>\n      <th>2019-01-01 12:32:48</th>\n      <td>NaN</td>\n      <td>25.56</td>\n      <td>NaN</td>\n    </tr>\n    <tr>\n      <th>2019-01-01 14:40:14</th>\n      <td>NaN</td>\n      <td>NaN</td>\n      <td>5.42</td>\n    </tr>\n    <tr>\n      <th>2019-01-01 14:42:25</th>\n      <td>NaN</td>\n      <td>NaN</td>\n      <td>12.31</td>\n    </tr>\n    <tr>\n      <th>2019-01-01 14:52:06</th>\n      <td>NaN</td>\n      <td>31.15</td>\n      <td>NaN</td>\n    </tr>\n    <tr>\n      <th>2019-01-01 17:22:58</th>\n      <td>NaN</td>\n      <td>NaN</td>\n      <td>42.11</td>\n    </tr>\n    <tr>\n      <th>2019-01-01 21:04:01</th>\n      <td>NaN</td>\n      <td>NaN</td>\n      <td>11.71</td>\n    </tr>\n    <tr>\n      <th>2019-01-02 00:13:08</th>\n      <td>NaN</td>\n      <td>44.71</td>\n      <td>NaN</td>\n    </tr>\n    <tr>\n      <th>2019-01-02 00:44:03</th>\n      <td>NaN</td>\n      <td>NaN</td>\n      <td>43.72</td>\n    </tr>\n    <tr>\n      <th>2019-01-02 00:56:53</th>\n      <td>NaN</td>\n      <td>NaN</td>\n      <td>37.34</td>\n    </tr>\n    <tr>\n      <th>2019-01-02 01:41:26</th>\n      <td>NaN</td>\n      <td>49.95</td>\n      <td>NaN</td>\n    </tr>\n    <tr>\n      <th>2019-01-02 01:46:40</th>\n      <td>NaN</td>\n      <td>NaN</td>\n      <td>34.79</td>\n    </tr>\n    <tr>\n      <th>2019-01-02 06:55:36</th>\n      <td>NaN</td>\n      <td>NaN</td>\n      <td>16.96</td>\n    </tr>\n    <tr>\n      <th>2019-01-02 07:26:53</th>\n      <td>NaN</td>\n      <td>33.57</td>\n      <td>NaN</td>\n    </tr>\n    <tr>\n      <th>2019-01-02 09:28:27</th>\n      <td>NaN</td>\n      <td>NaN</td>\n      <td>19.81</td>\n    </tr>\n    <tr>\n      <th>2019-01-02 09:57:04</th>\n      <td>NaN</td>\n      <td>NaN</td>\n      <td>33.06</td>\n    </tr>\n    <tr>\n      <th>2019-01-02 11:18:32</th>\n      <td>52.12</td>\n      <td>NaN</td>\n      <td>NaN</td>\n    </tr>\n    <tr>\n      <th>2019-01-02 11:51:32</th>\n      <td>NaN</td>\n      <td>NaN</td>\n      <td>7.45</td>\n    </tr>\n    <tr>\n      <th>2019-01-02 14:14:50</th>\n      <td>NaN</td>\n      <td>NaN</td>\n      <td>13.89</td>\n    </tr>\n    <tr>\n      <th>2019-01-02 15:38:25</th>\n      <td>NaN</td>\n      <td>45.32</td>\n      <td>NaN</td>\n    </tr>\n    <tr>\n      <th>2019-01-02 16:22:46</th>\n      <td>NaN</td>\n      <td>47.07</td>\n      <td>NaN</td>\n    </tr>\n    <tr>\n      <th>2019-01-02 16:59:55</th>\n      <td>NaN</td>\n      <td>33.62</td>\n      <td>NaN</td>\n    </tr>\n    <tr>\n      <th>2019-01-02 17:52:38</th>\n      <td>NaN</td>\n      <td>20.68</td>\n      <td>NaN</td>\n    </tr>\n    <tr>\n      <th>2019-01-02 20:08:57</th>\n      <td>NaN</td>\n      <td>NaN</td>\n      <td>10.19</td>\n    </tr>\n    <tr>\n      <th>2019-01-02 20:52:31</th>\n      <td>NaN</td>\n      <td>NaN</td>\n      <td>33.08</td>\n    </tr>\n    <tr>\n      <th>...</th>\n      <td>...</td>\n      <td>...</td>\n      <td>...</td>\n    </tr>\n    <tr>\n      <th>2019-04-27 12:41:46</th>\n      <td>NaN</td>\n      <td>NaN</td>\n      <td>18.99</td>\n    </tr>\n    <tr>\n      <th>2019-04-27 14:11:38</th>\n      <td>NaN</td>\n      <td>NaN</td>\n      <td>37.60</td>\n    </tr>\n    <tr>\n      <th>2019-04-27 14:37:32</th>\n      <td>NaN</td>\n      <td>45.77</td>\n      <td>NaN</td>\n    </tr>\n    <tr>\n      <th>2019-04-27 14:57:38</th>\n      <td>NaN</td>\n      <td>NaN</td>\n      <td>44.73</td>\n    </tr>\n    <tr>\n      <th>2019-04-27 16:20:00</th>\n      <td>NaN</td>\n      <td>NaN</td>\n      <td>6.62</td>\n    </tr>\n    <tr>\n      <th>2019-04-27 16:22:23</th>\n      <td>NaN</td>\n      <td>NaN</td>\n      <td>25.67</td>\n    </tr>\n    <tr>\n      <th>2019-04-27 17:58:27</th>\n      <td>14.01</td>\n      <td>NaN</td>\n      <td>NaN</td>\n    </tr>\n    <tr>\n      <th>2019-04-27 19:45:48</th>\n      <td>NaN</td>\n      <td>28.84</td>\n      <td>NaN</td>\n    </tr>\n    <tr>\n      <th>2019-04-27 20:41:36</th>\n      <td>NaN</td>\n      <td>NaN</td>\n      <td>8.28</td>\n    </tr>\n    <tr>\n      <th>2019-04-27 23:26:03</th>\n      <td>NaN</td>\n      <td>NaN</td>\n      <td>19.06</td>\n    </tr>\n    <tr>\n      <th>2019-04-27 23:52:44</th>\n      <td>NaN</td>\n      <td>45.98</td>\n      <td>NaN</td>\n    </tr>\n    <tr>\n      <th>2019-04-28 00:26:35</th>\n      <td>NaN</td>\n      <td>NaN</td>\n      <td>5.42</td>\n    </tr>\n    <tr>\n      <th>2019-04-28 00:56:58</th>\n      <td>NaN</td>\n      <td>26.61</td>\n      <td>NaN</td>\n    </tr>\n    <tr>\n      <th>2019-04-28 02:38:11</th>\n      <td>NaN</td>\n      <td>NaN</td>\n      <td>39.41</td>\n    </tr>\n    <tr>\n      <th>2019-04-28 04:00:40</th>\n      <td>NaN</td>\n      <td>NaN</td>\n      <td>39.82</td>\n    </tr>\n    <tr>\n      <th>2019-04-28 04:21:34</th>\n      <td>NaN</td>\n      <td>27.86</td>\n      <td>NaN</td>\n    </tr>\n    <tr>\n      <th>2019-04-28 04:34:56</th>\n      <td>NaN</td>\n      <td>NaN</td>\n      <td>40.46</td>\n    </tr>\n    <tr>\n      <th>2019-04-28 08:15:09</th>\n      <td>NaN</td>\n      <td>NaN</td>\n      <td>22.86</td>\n    </tr>\n    <tr>\n      <th>2019-04-28 09:03:54</th>\n      <td>NaN</td>\n      <td>NaN</td>\n      <td>15.00</td>\n    </tr>\n    <tr>\n      <th>2019-04-28 09:10:04</th>\n      <td>NaN</td>\n      <td>NaN</td>\n      <td>5.73</td>\n    </tr>\n    <tr>\n      <th>2019-04-28 09:25:03</th>\n      <td>NaN</td>\n      <td>NaN</td>\n      <td>37.35</td>\n    </tr>\n    <tr>\n      <th>2019-04-28 10:54:14</th>\n      <td>NaN</td>\n      <td>NaN</td>\n      <td>10.07</td>\n    </tr>\n    <tr>\n      <th>2019-04-28 11:40:49</th>\n      <td>NaN</td>\n      <td>43.22</td>\n      <td>NaN</td>\n    </tr>\n    <tr>\n      <th>2019-04-28 11:49:26</th>\n      <td>NaN</td>\n      <td>39.19</td>\n      <td>NaN</td>\n    </tr>\n    <tr>\n      <th>2019-04-28 12:48:34</th>\n      <td>NaN</td>\n      <td>NaN</td>\n      <td>33.35</td>\n    </tr>\n    <tr>\n      <th>2019-04-28 14:28:36</th>\n      <td>NaN</td>\n      <td>NaN</td>\n      <td>11.46</td>\n    </tr>\n    <tr>\n      <th>2019-04-28 16:29:16</th>\n      <td>NaN</td>\n      <td>NaN</td>\n      <td>36.42</td>\n    </tr>\n    <tr>\n      <th>2019-04-28 17:26:52</th>\n      <td>NaN</td>\n      <td>NaN</td>\n      <td>31.43</td>\n    </tr>\n    <tr>\n      <th>2019-04-28 17:38:09</th>\n      <td>NaN</td>\n      <td>34.87</td>\n      <td>NaN</td>\n    </tr>\n    <tr>\n      <th>2019-04-28 19:35:03</th>\n      <td>NaN</td>\n      <td>16.96</td>\n      <td>NaN</td>\n    </tr>\n  </tbody>\n</table>\n<p>2196 rows × 3 columns</p>\n</div>"
     },
     "metadata": {},
     "execution_count": 81
    }
   ],
   "source": [
    "# 5. Create a new DataFrame from the pivot table DataFrame using loc on the given dates, '2019-01-01':'2019-04-29'.\n",
    "#df2 = new_df.loc(new_df['date']\n",
    "\n",
    "df_2 = table.loc[(table.index <= '2019-04-29') & (table.index >= '2019-01-01')]\n",
    "df_2"
   ]
  },
  {
   "cell_type": "code",
   "execution_count": 82,
   "metadata": {},
   "outputs": [
    {
     "output_type": "execute_result",
     "data": {
      "text/plain": [
       "                      fare                \n",
       "type                 Rural Suburban  Urban\n",
       "date                                      \n",
       "2019-01-01 00:08:16    NaN      NaN  37.91\n",
       "2019-01-01 00:46:46    NaN    47.74    NaN\n",
       "2019-01-01 02:07:24    NaN    24.07    NaN\n",
       "2019-01-01 03:46:50    NaN      NaN   7.57\n",
       "2019-01-01 05:23:21    NaN      NaN  10.75\n",
       "2019-01-01 09:45:36  43.69      NaN    NaN\n",
       "2019-01-01 12:32:48    NaN    25.56    NaN\n",
       "2019-01-01 14:40:14    NaN      NaN   5.42\n",
       "2019-01-01 14:42:25    NaN      NaN  12.31\n",
       "2019-01-01 14:52:06    NaN    31.15    NaN\n",
       "2019-01-01 17:22:58    NaN      NaN  42.11\n",
       "2019-01-01 21:04:01    NaN      NaN  11.71\n",
       "2019-01-02 00:13:08    NaN    44.71    NaN\n",
       "2019-01-02 00:44:03    NaN      NaN  43.72\n",
       "2019-01-02 00:56:53    NaN      NaN  37.34\n",
       "2019-01-02 01:41:26    NaN    49.95    NaN\n",
       "2019-01-02 01:46:40    NaN      NaN  34.79\n",
       "2019-01-02 06:55:36    NaN      NaN  16.96\n",
       "2019-01-02 07:26:53    NaN    33.57    NaN\n",
       "2019-01-02 09:28:27    NaN      NaN  19.81\n",
       "2019-01-02 09:57:04    NaN      NaN  33.06\n",
       "2019-01-02 11:18:32  52.12      NaN    NaN\n",
       "2019-01-02 11:51:32    NaN      NaN   7.45\n",
       "2019-01-02 14:14:50    NaN      NaN  13.89\n",
       "2019-01-02 15:38:25    NaN    45.32    NaN\n",
       "2019-01-02 16:22:46    NaN    47.07    NaN\n",
       "2019-01-02 16:59:55    NaN    33.62    NaN\n",
       "2019-01-02 17:52:38    NaN    20.68    NaN\n",
       "2019-01-02 20:08:57    NaN      NaN  10.19\n",
       "2019-01-02 20:52:31    NaN      NaN  33.08\n",
       "...                    ...      ...    ...\n",
       "2019-04-27 12:41:46    NaN      NaN  18.99\n",
       "2019-04-27 14:11:38    NaN      NaN  37.60\n",
       "2019-04-27 14:37:32    NaN    45.77    NaN\n",
       "2019-04-27 14:57:38    NaN      NaN  44.73\n",
       "2019-04-27 16:20:00    NaN      NaN   6.62\n",
       "2019-04-27 16:22:23    NaN      NaN  25.67\n",
       "2019-04-27 17:58:27  14.01      NaN    NaN\n",
       "2019-04-27 19:45:48    NaN    28.84    NaN\n",
       "2019-04-27 20:41:36    NaN      NaN   8.28\n",
       "2019-04-27 23:26:03    NaN      NaN  19.06\n",
       "2019-04-27 23:52:44    NaN    45.98    NaN\n",
       "2019-04-28 00:26:35    NaN      NaN   5.42\n",
       "2019-04-28 00:56:58    NaN    26.61    NaN\n",
       "2019-04-28 02:38:11    NaN      NaN  39.41\n",
       "2019-04-28 04:00:40    NaN      NaN  39.82\n",
       "2019-04-28 04:21:34    NaN    27.86    NaN\n",
       "2019-04-28 04:34:56    NaN      NaN  40.46\n",
       "2019-04-28 08:15:09    NaN      NaN  22.86\n",
       "2019-04-28 09:03:54    NaN      NaN  15.00\n",
       "2019-04-28 09:10:04    NaN      NaN   5.73\n",
       "2019-04-28 09:25:03    NaN      NaN  37.35\n",
       "2019-04-28 10:54:14    NaN      NaN  10.07\n",
       "2019-04-28 11:40:49    NaN    43.22    NaN\n",
       "2019-04-28 11:49:26    NaN    39.19    NaN\n",
       "2019-04-28 12:48:34    NaN      NaN  33.35\n",
       "2019-04-28 14:28:36    NaN      NaN  11.46\n",
       "2019-04-28 16:29:16    NaN      NaN  36.42\n",
       "2019-04-28 17:26:52    NaN      NaN  31.43\n",
       "2019-04-28 17:38:09    NaN    34.87    NaN\n",
       "2019-04-28 19:35:03    NaN    16.96    NaN\n",
       "\n",
       "[2196 rows x 3 columns]"
      ],
      "text/html": "<div>\n<style scoped>\n    .dataframe tbody tr th:only-of-type {\n        vertical-align: middle;\n    }\n\n    .dataframe tbody tr th {\n        vertical-align: top;\n    }\n\n    .dataframe thead tr th {\n        text-align: left;\n    }\n\n    .dataframe thead tr:last-of-type th {\n        text-align: right;\n    }\n</style>\n<table border=\"1\" class=\"dataframe\">\n  <thead>\n    <tr>\n      <th></th>\n      <th colspan=\"3\" halign=\"left\">fare</th>\n    </tr>\n    <tr>\n      <th>type</th>\n      <th>Rural</th>\n      <th>Suburban</th>\n      <th>Urban</th>\n    </tr>\n    <tr>\n      <th>date</th>\n      <th></th>\n      <th></th>\n      <th></th>\n    </tr>\n  </thead>\n  <tbody>\n    <tr>\n      <th>2019-01-01 00:08:16</th>\n      <td>NaN</td>\n      <td>NaN</td>\n      <td>37.91</td>\n    </tr>\n    <tr>\n      <th>2019-01-01 00:46:46</th>\n      <td>NaN</td>\n      <td>47.74</td>\n      <td>NaN</td>\n    </tr>\n    <tr>\n      <th>2019-01-01 02:07:24</th>\n      <td>NaN</td>\n      <td>24.07</td>\n      <td>NaN</td>\n    </tr>\n    <tr>\n      <th>2019-01-01 03:46:50</th>\n      <td>NaN</td>\n      <td>NaN</td>\n      <td>7.57</td>\n    </tr>\n    <tr>\n      <th>2019-01-01 05:23:21</th>\n      <td>NaN</td>\n      <td>NaN</td>\n      <td>10.75</td>\n    </tr>\n    <tr>\n      <th>2019-01-01 09:45:36</th>\n      <td>43.69</td>\n      <td>NaN</td>\n      <td>NaN</td>\n    </tr>\n    <tr>\n      <th>2019-01-01 12:32:48</th>\n      <td>NaN</td>\n      <td>25.56</td>\n      <td>NaN</td>\n    </tr>\n    <tr>\n      <th>2019-01-01 14:40:14</th>\n      <td>NaN</td>\n      <td>NaN</td>\n      <td>5.42</td>\n    </tr>\n    <tr>\n      <th>2019-01-01 14:42:25</th>\n      <td>NaN</td>\n      <td>NaN</td>\n      <td>12.31</td>\n    </tr>\n    <tr>\n      <th>2019-01-01 14:52:06</th>\n      <td>NaN</td>\n      <td>31.15</td>\n      <td>NaN</td>\n    </tr>\n    <tr>\n      <th>2019-01-01 17:22:58</th>\n      <td>NaN</td>\n      <td>NaN</td>\n      <td>42.11</td>\n    </tr>\n    <tr>\n      <th>2019-01-01 21:04:01</th>\n      <td>NaN</td>\n      <td>NaN</td>\n      <td>11.71</td>\n    </tr>\n    <tr>\n      <th>2019-01-02 00:13:08</th>\n      <td>NaN</td>\n      <td>44.71</td>\n      <td>NaN</td>\n    </tr>\n    <tr>\n      <th>2019-01-02 00:44:03</th>\n      <td>NaN</td>\n      <td>NaN</td>\n      <td>43.72</td>\n    </tr>\n    <tr>\n      <th>2019-01-02 00:56:53</th>\n      <td>NaN</td>\n      <td>NaN</td>\n      <td>37.34</td>\n    </tr>\n    <tr>\n      <th>2019-01-02 01:41:26</th>\n      <td>NaN</td>\n      <td>49.95</td>\n      <td>NaN</td>\n    </tr>\n    <tr>\n      <th>2019-01-02 01:46:40</th>\n      <td>NaN</td>\n      <td>NaN</td>\n      <td>34.79</td>\n    </tr>\n    <tr>\n      <th>2019-01-02 06:55:36</th>\n      <td>NaN</td>\n      <td>NaN</td>\n      <td>16.96</td>\n    </tr>\n    <tr>\n      <th>2019-01-02 07:26:53</th>\n      <td>NaN</td>\n      <td>33.57</td>\n      <td>NaN</td>\n    </tr>\n    <tr>\n      <th>2019-01-02 09:28:27</th>\n      <td>NaN</td>\n      <td>NaN</td>\n      <td>19.81</td>\n    </tr>\n    <tr>\n      <th>2019-01-02 09:57:04</th>\n      <td>NaN</td>\n      <td>NaN</td>\n      <td>33.06</td>\n    </tr>\n    <tr>\n      <th>2019-01-02 11:18:32</th>\n      <td>52.12</td>\n      <td>NaN</td>\n      <td>NaN</td>\n    </tr>\n    <tr>\n      <th>2019-01-02 11:51:32</th>\n      <td>NaN</td>\n      <td>NaN</td>\n      <td>7.45</td>\n    </tr>\n    <tr>\n      <th>2019-01-02 14:14:50</th>\n      <td>NaN</td>\n      <td>NaN</td>\n      <td>13.89</td>\n    </tr>\n    <tr>\n      <th>2019-01-02 15:38:25</th>\n      <td>NaN</td>\n      <td>45.32</td>\n      <td>NaN</td>\n    </tr>\n    <tr>\n      <th>2019-01-02 16:22:46</th>\n      <td>NaN</td>\n      <td>47.07</td>\n      <td>NaN</td>\n    </tr>\n    <tr>\n      <th>2019-01-02 16:59:55</th>\n      <td>NaN</td>\n      <td>33.62</td>\n      <td>NaN</td>\n    </tr>\n    <tr>\n      <th>2019-01-02 17:52:38</th>\n      <td>NaN</td>\n      <td>20.68</td>\n      <td>NaN</td>\n    </tr>\n    <tr>\n      <th>2019-01-02 20:08:57</th>\n      <td>NaN</td>\n      <td>NaN</td>\n      <td>10.19</td>\n    </tr>\n    <tr>\n      <th>2019-01-02 20:52:31</th>\n      <td>NaN</td>\n      <td>NaN</td>\n      <td>33.08</td>\n    </tr>\n    <tr>\n      <th>...</th>\n      <td>...</td>\n      <td>...</td>\n      <td>...</td>\n    </tr>\n    <tr>\n      <th>2019-04-27 12:41:46</th>\n      <td>NaN</td>\n      <td>NaN</td>\n      <td>18.99</td>\n    </tr>\n    <tr>\n      <th>2019-04-27 14:11:38</th>\n      <td>NaN</td>\n      <td>NaN</td>\n      <td>37.60</td>\n    </tr>\n    <tr>\n      <th>2019-04-27 14:37:32</th>\n      <td>NaN</td>\n      <td>45.77</td>\n      <td>NaN</td>\n    </tr>\n    <tr>\n      <th>2019-04-27 14:57:38</th>\n      <td>NaN</td>\n      <td>NaN</td>\n      <td>44.73</td>\n    </tr>\n    <tr>\n      <th>2019-04-27 16:20:00</th>\n      <td>NaN</td>\n      <td>NaN</td>\n      <td>6.62</td>\n    </tr>\n    <tr>\n      <th>2019-04-27 16:22:23</th>\n      <td>NaN</td>\n      <td>NaN</td>\n      <td>25.67</td>\n    </tr>\n    <tr>\n      <th>2019-04-27 17:58:27</th>\n      <td>14.01</td>\n      <td>NaN</td>\n      <td>NaN</td>\n    </tr>\n    <tr>\n      <th>2019-04-27 19:45:48</th>\n      <td>NaN</td>\n      <td>28.84</td>\n      <td>NaN</td>\n    </tr>\n    <tr>\n      <th>2019-04-27 20:41:36</th>\n      <td>NaN</td>\n      <td>NaN</td>\n      <td>8.28</td>\n    </tr>\n    <tr>\n      <th>2019-04-27 23:26:03</th>\n      <td>NaN</td>\n      <td>NaN</td>\n      <td>19.06</td>\n    </tr>\n    <tr>\n      <th>2019-04-27 23:52:44</th>\n      <td>NaN</td>\n      <td>45.98</td>\n      <td>NaN</td>\n    </tr>\n    <tr>\n      <th>2019-04-28 00:26:35</th>\n      <td>NaN</td>\n      <td>NaN</td>\n      <td>5.42</td>\n    </tr>\n    <tr>\n      <th>2019-04-28 00:56:58</th>\n      <td>NaN</td>\n      <td>26.61</td>\n      <td>NaN</td>\n    </tr>\n    <tr>\n      <th>2019-04-28 02:38:11</th>\n      <td>NaN</td>\n      <td>NaN</td>\n      <td>39.41</td>\n    </tr>\n    <tr>\n      <th>2019-04-28 04:00:40</th>\n      <td>NaN</td>\n      <td>NaN</td>\n      <td>39.82</td>\n    </tr>\n    <tr>\n      <th>2019-04-28 04:21:34</th>\n      <td>NaN</td>\n      <td>27.86</td>\n      <td>NaN</td>\n    </tr>\n    <tr>\n      <th>2019-04-28 04:34:56</th>\n      <td>NaN</td>\n      <td>NaN</td>\n      <td>40.46</td>\n    </tr>\n    <tr>\n      <th>2019-04-28 08:15:09</th>\n      <td>NaN</td>\n      <td>NaN</td>\n      <td>22.86</td>\n    </tr>\n    <tr>\n      <th>2019-04-28 09:03:54</th>\n      <td>NaN</td>\n      <td>NaN</td>\n      <td>15.00</td>\n    </tr>\n    <tr>\n      <th>2019-04-28 09:10:04</th>\n      <td>NaN</td>\n      <td>NaN</td>\n      <td>5.73</td>\n    </tr>\n    <tr>\n      <th>2019-04-28 09:25:03</th>\n      <td>NaN</td>\n      <td>NaN</td>\n      <td>37.35</td>\n    </tr>\n    <tr>\n      <th>2019-04-28 10:54:14</th>\n      <td>NaN</td>\n      <td>NaN</td>\n      <td>10.07</td>\n    </tr>\n    <tr>\n      <th>2019-04-28 11:40:49</th>\n      <td>NaN</td>\n      <td>43.22</td>\n      <td>NaN</td>\n    </tr>\n    <tr>\n      <th>2019-04-28 11:49:26</th>\n      <td>NaN</td>\n      <td>39.19</td>\n      <td>NaN</td>\n    </tr>\n    <tr>\n      <th>2019-04-28 12:48:34</th>\n      <td>NaN</td>\n      <td>NaN</td>\n      <td>33.35</td>\n    </tr>\n    <tr>\n      <th>2019-04-28 14:28:36</th>\n      <td>NaN</td>\n      <td>NaN</td>\n      <td>11.46</td>\n    </tr>\n    <tr>\n      <th>2019-04-28 16:29:16</th>\n      <td>NaN</td>\n      <td>NaN</td>\n      <td>36.42</td>\n    </tr>\n    <tr>\n      <th>2019-04-28 17:26:52</th>\n      <td>NaN</td>\n      <td>NaN</td>\n      <td>31.43</td>\n    </tr>\n    <tr>\n      <th>2019-04-28 17:38:09</th>\n      <td>NaN</td>\n      <td>34.87</td>\n      <td>NaN</td>\n    </tr>\n    <tr>\n      <th>2019-04-28 19:35:03</th>\n      <td>NaN</td>\n      <td>16.96</td>\n      <td>NaN</td>\n    </tr>\n  </tbody>\n</table>\n<p>2196 rows × 3 columns</p>\n</div>"
     },
     "metadata": {},
     "execution_count": 82
    }
   ],
   "source": [
    "# 6. Set the \"date\" index to datetime datatype. This is necessary to use the resample() method in Step 8.\n",
    "df_2.index = pd.to_datetime(df_2.index)\n",
    "df_2"
   ]
  },
  {
   "cell_type": "code",
   "execution_count": 83,
   "metadata": {},
   "outputs": [
    {
     "output_type": "stream",
     "name": "stdout",
     "text": [
      "<class 'pandas.core.frame.DataFrame'>\nDatetimeIndex: 2196 entries, 2019-01-01 00:08:16 to 2019-04-28 19:35:03\nData columns (total 3 columns):\n(fare, Rural)       114 non-null float64\n(fare, Suburban)    573 non-null float64\n(fare, Urban)       1509 non-null float64\ndtypes: float64(3)\nmemory usage: 68.6 KB\n"
     ]
    }
   ],
   "source": [
    "# 7. Check that the datatype for the index is datetime using df.info()\n",
    "df_2.info()"
   ]
  },
  {
   "cell_type": "code",
   "execution_count": 84,
   "metadata": {},
   "outputs": [
    {
     "output_type": "execute_result",
     "data": {
      "text/plain": [
       "              fare                  \n",
       "type         Rural Suburban    Urban\n",
       "date                                \n",
       "2019-01-06  187.92   721.60  1661.68\n",
       "2019-01-13   67.65  1105.13  2050.43\n",
       "2019-01-20  306.00  1218.20  1939.02\n",
       "2019-01-27  179.69  1203.28  2129.51\n",
       "2019-02-03  333.08  1042.79  2086.94\n",
       "2019-02-10  115.80   974.34  2162.64\n",
       "2019-02-17   95.82  1045.50  2235.07\n",
       "2019-02-24  419.06  1412.74  2466.29\n",
       "2019-03-03  175.14   858.46  2218.20\n",
       "2019-03-10  303.94   925.27  2470.93\n",
       "2019-03-17  163.39   906.20  2044.42\n",
       "2019-03-24  189.76  1122.20  2368.37\n",
       "2019-03-31  199.42  1045.06  1942.77\n",
       "2019-04-07  501.24  1010.73  2356.70\n",
       "2019-04-14  269.79   784.82  2390.72\n",
       "2019-04-21  214.14  1149.27  2303.80\n",
       "2019-04-28  191.85  1357.75  2238.29"
      ],
      "text/html": "<div>\n<style scoped>\n    .dataframe tbody tr th:only-of-type {\n        vertical-align: middle;\n    }\n\n    .dataframe tbody tr th {\n        vertical-align: top;\n    }\n\n    .dataframe thead tr th {\n        text-align: left;\n    }\n\n    .dataframe thead tr:last-of-type th {\n        text-align: right;\n    }\n</style>\n<table border=\"1\" class=\"dataframe\">\n  <thead>\n    <tr>\n      <th></th>\n      <th colspan=\"3\" halign=\"left\">fare</th>\n    </tr>\n    <tr>\n      <th>type</th>\n      <th>Rural</th>\n      <th>Suburban</th>\n      <th>Urban</th>\n    </tr>\n    <tr>\n      <th>date</th>\n      <th></th>\n      <th></th>\n      <th></th>\n    </tr>\n  </thead>\n  <tbody>\n    <tr>\n      <th>2019-01-06</th>\n      <td>187.92</td>\n      <td>721.60</td>\n      <td>1661.68</td>\n    </tr>\n    <tr>\n      <th>2019-01-13</th>\n      <td>67.65</td>\n      <td>1105.13</td>\n      <td>2050.43</td>\n    </tr>\n    <tr>\n      <th>2019-01-20</th>\n      <td>306.00</td>\n      <td>1218.20</td>\n      <td>1939.02</td>\n    </tr>\n    <tr>\n      <th>2019-01-27</th>\n      <td>179.69</td>\n      <td>1203.28</td>\n      <td>2129.51</td>\n    </tr>\n    <tr>\n      <th>2019-02-03</th>\n      <td>333.08</td>\n      <td>1042.79</td>\n      <td>2086.94</td>\n    </tr>\n    <tr>\n      <th>2019-02-10</th>\n      <td>115.80</td>\n      <td>974.34</td>\n      <td>2162.64</td>\n    </tr>\n    <tr>\n      <th>2019-02-17</th>\n      <td>95.82</td>\n      <td>1045.50</td>\n      <td>2235.07</td>\n    </tr>\n    <tr>\n      <th>2019-02-24</th>\n      <td>419.06</td>\n      <td>1412.74</td>\n      <td>2466.29</td>\n    </tr>\n    <tr>\n      <th>2019-03-03</th>\n      <td>175.14</td>\n      <td>858.46</td>\n      <td>2218.20</td>\n    </tr>\n    <tr>\n      <th>2019-03-10</th>\n      <td>303.94</td>\n      <td>925.27</td>\n      <td>2470.93</td>\n    </tr>\n    <tr>\n      <th>2019-03-17</th>\n      <td>163.39</td>\n      <td>906.20</td>\n      <td>2044.42</td>\n    </tr>\n    <tr>\n      <th>2019-03-24</th>\n      <td>189.76</td>\n      <td>1122.20</td>\n      <td>2368.37</td>\n    </tr>\n    <tr>\n      <th>2019-03-31</th>\n      <td>199.42</td>\n      <td>1045.06</td>\n      <td>1942.77</td>\n    </tr>\n    <tr>\n      <th>2019-04-07</th>\n      <td>501.24</td>\n      <td>1010.73</td>\n      <td>2356.70</td>\n    </tr>\n    <tr>\n      <th>2019-04-14</th>\n      <td>269.79</td>\n      <td>784.82</td>\n      <td>2390.72</td>\n    </tr>\n    <tr>\n      <th>2019-04-21</th>\n      <td>214.14</td>\n      <td>1149.27</td>\n      <td>2303.80</td>\n    </tr>\n    <tr>\n      <th>2019-04-28</th>\n      <td>191.85</td>\n      <td>1357.75</td>\n      <td>2238.29</td>\n    </tr>\n  </tbody>\n</table>\n</div>"
     },
     "metadata": {},
     "execution_count": 84
    }
   ],
   "source": [
    "# 8. Create a new DataFrame using the \"resample()\" function by week 'W' and get the sum of the fares for each week.\n",
    "df_weekly = df_2.resample(\"w\").sum()\n",
    "df_weekly"
   ]
  },
  {
   "cell_type": "code",
   "execution_count": 85,
   "metadata": {},
   "outputs": [
    {
     "output_type": "execute_result",
     "data": {
      "text/plain": [
       "<matplotlib.axes._subplots.AxesSubplot at 0x9ca7ead588>"
      ]
     },
     "metadata": {},
     "execution_count": 85
    },
    {
     "output_type": "display_data",
     "data": {
      "text/plain": "<Figure size 432x288 with 1 Axes>",
      "image/svg+xml": "<?xml version=\"1.0\" encoding=\"utf-8\" standalone=\"no\"?>\r\n<!DOCTYPE svg PUBLIC \"-//W3C//DTD SVG 1.1//EN\"\r\n  \"http://www.w3.org/Graphics/SVG/1.1/DTD/svg11.dtd\">\r\n<!-- Created with matplotlib (http://matplotlib.org/) -->\r\n<svg height=\"300.665563pt\" version=\"1.1\" viewBox=\"0 0 429.37 300.665563\" width=\"429.37pt\" xmlns=\"http://www.w3.org/2000/svg\" xmlns:xlink=\"http://www.w3.org/1999/xlink\">\r\n <defs>\r\n  <style type=\"text/css\">\r\n*{stroke-linecap:butt;stroke-linejoin:round;}\r\n  </style>\r\n </defs>\r\n <g id=\"figure_1\">\r\n  <g id=\"patch_1\">\r\n   <path d=\"M 0 300.665563 \r\nL 429.37 300.665563 \r\nL 429.37 0 \r\nL 0 0 \r\nz\r\n\" style=\"fill:#f0f0f0;\"/>\r\n  </g>\r\n  <g id=\"axes_1\">\r\n   <g id=\"patch_2\">\r\n    <path d=\"M 46.33 240.48 \r\nL 422.17 240.48 \r\nL 422.17 7.2 \r\nL 46.33 7.2 \r\nz\r\n\" style=\"fill:#f0f0f0;\"/>\r\n   </g>\r\n   <g id=\"matplotlib.axis_1\">\r\n    <g id=\"xtick_1\">\r\n     <g id=\"line2d_1\">\r\n      <path clip-path=\"url(#pedde90cca0)\" d=\"M 63.413636 240.48 \r\nL 63.413636 7.2 \r\n\" style=\"fill:none;stroke:#cbcbcb;\"/>\r\n     </g>\r\n     <g id=\"line2d_2\"/>\r\n     <g id=\"text_1\">\r\n      <!-- Jan -->\r\n      <defs>\r\n       <path d=\"M 9.8125 72.90625 \r\nL 19.671875 72.90625 \r\nL 19.671875 5.078125 \r\nQ 19.671875 -8.109375 14.671875 -14.0625 \r\nQ 9.671875 -20.015625 -1.421875 -20.015625 \r\nL -5.171875 -20.015625 \r\nL -5.171875 -11.71875 \r\nL -2.09375 -11.71875 \r\nQ 4.4375 -11.71875 7.125 -8.046875 \r\nQ 9.8125 -4.390625 9.8125 5.078125 \r\nz\r\n\" id=\"DejaVuSans-4a\"/>\r\n       <path d=\"M 34.28125 27.484375 \r\nQ 23.390625 27.484375 19.1875 25 \r\nQ 14.984375 22.515625 14.984375 16.5 \r\nQ 14.984375 11.71875 18.140625 8.90625 \r\nQ 21.296875 6.109375 26.703125 6.109375 \r\nQ 34.1875 6.109375 38.703125 11.40625 \r\nQ 43.21875 16.703125 43.21875 25.484375 \r\nL 43.21875 27.484375 \r\nz\r\nM 52.203125 31.203125 \r\nL 52.203125 0 \r\nL 43.21875 0 \r\nL 43.21875 8.296875 \r\nQ 40.140625 3.328125 35.546875 0.953125 \r\nQ 30.953125 -1.421875 24.3125 -1.421875 \r\nQ 15.921875 -1.421875 10.953125 3.296875 \r\nQ 6 8.015625 6 15.921875 \r\nQ 6 25.140625 12.171875 29.828125 \r\nQ 18.359375 34.515625 30.609375 34.515625 \r\nL 43.21875 34.515625 \r\nL 43.21875 35.40625 \r\nQ 43.21875 41.609375 39.140625 45 \r\nQ 35.0625 48.390625 27.6875 48.390625 \r\nQ 23 48.390625 18.546875 47.265625 \r\nQ 14.109375 46.140625 10.015625 43.890625 \r\nL 10.015625 52.203125 \r\nQ 14.9375 54.109375 19.578125 55.046875 \r\nQ 24.21875 56 28.609375 56 \r\nQ 40.484375 56 46.34375 49.84375 \r\nQ 52.203125 43.703125 52.203125 31.203125 \r\nz\r\n\" id=\"DejaVuSans-61\"/>\r\n       <path d=\"M 54.890625 33.015625 \r\nL 54.890625 0 \r\nL 45.90625 0 \r\nL 45.90625 32.71875 \r\nQ 45.90625 40.484375 42.875 44.328125 \r\nQ 39.84375 48.1875 33.796875 48.1875 \r\nQ 26.515625 48.1875 22.3125 43.546875 \r\nQ 18.109375 38.921875 18.109375 30.90625 \r\nL 18.109375 0 \r\nL 9.078125 0 \r\nL 9.078125 54.6875 \r\nL 18.109375 54.6875 \r\nL 18.109375 46.1875 \r\nQ 21.34375 51.125 25.703125 53.5625 \r\nQ 30.078125 56 35.796875 56 \r\nQ 45.21875 56 50.046875 50.171875 \r\nQ 54.890625 44.34375 54.890625 33.015625 \r\nz\r\n\" id=\"DejaVuSans-6e\"/>\r\n      </defs>\r\n      <g transform=\"translate(52.622699 254.617813)scale(0.14 -0.14)\">\r\n       <use xlink:href=\"#DejaVuSans-4a\"/>\r\n       <use x=\"29.492188\" xlink:href=\"#DejaVuSans-61\"/>\r\n       <use x=\"90.771484\" xlink:href=\"#DejaVuSans-6e\"/>\r\n      </g>\r\n      <!-- 2019 -->\r\n      <defs>\r\n       <path d=\"M 19.1875 8.296875 \r\nL 53.609375 8.296875 \r\nL 53.609375 0 \r\nL 7.328125 0 \r\nL 7.328125 8.296875 \r\nQ 12.9375 14.109375 22.625 23.890625 \r\nQ 32.328125 33.6875 34.8125 36.53125 \r\nQ 39.546875 41.84375 41.421875 45.53125 \r\nQ 43.3125 49.21875 43.3125 52.78125 \r\nQ 43.3125 58.59375 39.234375 62.25 \r\nQ 35.15625 65.921875 28.609375 65.921875 \r\nQ 23.96875 65.921875 18.8125 64.3125 \r\nQ 13.671875 62.703125 7.8125 59.421875 \r\nL 7.8125 69.390625 \r\nQ 13.765625 71.78125 18.9375 73 \r\nQ 24.125 74.21875 28.421875 74.21875 \r\nQ 39.75 74.21875 46.484375 68.546875 \r\nQ 53.21875 62.890625 53.21875 53.421875 \r\nQ 53.21875 48.921875 51.53125 44.890625 \r\nQ 49.859375 40.875 45.40625 35.40625 \r\nQ 44.1875 33.984375 37.640625 27.21875 \r\nQ 31.109375 20.453125 19.1875 8.296875 \r\nz\r\n\" id=\"DejaVuSans-32\"/>\r\n       <path d=\"M 31.78125 66.40625 \r\nQ 24.171875 66.40625 20.328125 58.90625 \r\nQ 16.5 51.421875 16.5 36.375 \r\nQ 16.5 21.390625 20.328125 13.890625 \r\nQ 24.171875 6.390625 31.78125 6.390625 \r\nQ 39.453125 6.390625 43.28125 13.890625 \r\nQ 47.125 21.390625 47.125 36.375 \r\nQ 47.125 51.421875 43.28125 58.90625 \r\nQ 39.453125 66.40625 31.78125 66.40625 \r\nz\r\nM 31.78125 74.21875 \r\nQ 44.046875 74.21875 50.515625 64.515625 \r\nQ 56.984375 54.828125 56.984375 36.375 \r\nQ 56.984375 17.96875 50.515625 8.265625 \r\nQ 44.046875 -1.421875 31.78125 -1.421875 \r\nQ 19.53125 -1.421875 13.0625 8.265625 \r\nQ 6.59375 17.96875 6.59375 36.375 \r\nQ 6.59375 54.828125 13.0625 64.515625 \r\nQ 19.53125 74.21875 31.78125 74.21875 \r\nz\r\n\" id=\"DejaVuSans-30\"/>\r\n       <path d=\"M 12.40625 8.296875 \r\nL 28.515625 8.296875 \r\nL 28.515625 63.921875 \r\nL 10.984375 60.40625 \r\nL 10.984375 69.390625 \r\nL 28.421875 72.90625 \r\nL 38.28125 72.90625 \r\nL 38.28125 8.296875 \r\nL 54.390625 8.296875 \r\nL 54.390625 0 \r\nL 12.40625 0 \r\nz\r\n\" id=\"DejaVuSans-31\"/>\r\n       <path d=\"M 10.984375 1.515625 \r\nL 10.984375 10.5 \r\nQ 14.703125 8.734375 18.5 7.8125 \r\nQ 22.3125 6.890625 25.984375 6.890625 \r\nQ 35.75 6.890625 40.890625 13.453125 \r\nQ 46.046875 20.015625 46.78125 33.40625 \r\nQ 43.953125 29.203125 39.59375 26.953125 \r\nQ 35.25 24.703125 29.984375 24.703125 \r\nQ 19.046875 24.703125 12.671875 31.3125 \r\nQ 6.296875 37.9375 6.296875 49.421875 \r\nQ 6.296875 60.640625 12.9375 67.421875 \r\nQ 19.578125 74.21875 30.609375 74.21875 \r\nQ 43.265625 74.21875 49.921875 64.515625 \r\nQ 56.59375 54.828125 56.59375 36.375 \r\nQ 56.59375 19.140625 48.40625 8.859375 \r\nQ 40.234375 -1.421875 26.421875 -1.421875 \r\nQ 22.703125 -1.421875 18.890625 -0.6875 \r\nQ 15.09375 0.046875 10.984375 1.515625 \r\nz\r\nM 30.609375 32.421875 \r\nQ 37.25 32.421875 41.125 36.953125 \r\nQ 45.015625 41.5 45.015625 49.421875 \r\nQ 45.015625 57.28125 41.125 61.84375 \r\nQ 37.25 66.40625 30.609375 66.40625 \r\nQ 23.96875 66.40625 20.09375 61.84375 \r\nQ 16.21875 57.28125 16.21875 49.421875 \r\nQ 16.21875 41.5 20.09375 36.953125 \r\nQ 23.96875 32.421875 30.609375 32.421875 \r\nz\r\n\" id=\"DejaVuSans-39\"/>\r\n      </defs>\r\n      <g transform=\"translate(45.598636 270.29475)scale(0.14 -0.14)\">\r\n       <use xlink:href=\"#DejaVuSans-32\"/>\r\n       <use x=\"63.623047\" xlink:href=\"#DejaVuSans-30\"/>\r\n       <use x=\"127.246094\" xlink:href=\"#DejaVuSans-31\"/>\r\n       <use x=\"190.869141\" xlink:href=\"#DejaVuSans-39\"/>\r\n      </g>\r\n     </g>\r\n    </g>\r\n    <g id=\"xtick_2\">\r\n     <g id=\"line2d_3\">\r\n      <path clip-path=\"url(#pedde90cca0)\" d=\"M 148.831818 240.48 \r\nL 148.831818 7.2 \r\n\" style=\"fill:none;stroke:#cbcbcb;\"/>\r\n     </g>\r\n     <g id=\"line2d_4\"/>\r\n     <g id=\"text_2\">\r\n      <!-- Feb -->\r\n      <defs>\r\n       <path d=\"M 9.8125 72.90625 \r\nL 51.703125 72.90625 \r\nL 51.703125 64.59375 \r\nL 19.671875 64.59375 \r\nL 19.671875 43.109375 \r\nL 48.578125 43.109375 \r\nL 48.578125 34.8125 \r\nL 19.671875 34.8125 \r\nL 19.671875 0 \r\nL 9.8125 0 \r\nz\r\n\" id=\"DejaVuSans-46\"/>\r\n       <path d=\"M 56.203125 29.59375 \r\nL 56.203125 25.203125 \r\nL 14.890625 25.203125 \r\nQ 15.484375 15.921875 20.484375 11.0625 \r\nQ 25.484375 6.203125 34.421875 6.203125 \r\nQ 39.59375 6.203125 44.453125 7.46875 \r\nQ 49.3125 8.734375 54.109375 11.28125 \r\nL 54.109375 2.78125 \r\nQ 49.265625 0.734375 44.1875 -0.34375 \r\nQ 39.109375 -1.421875 33.890625 -1.421875 \r\nQ 20.796875 -1.421875 13.15625 6.1875 \r\nQ 5.515625 13.8125 5.515625 26.8125 \r\nQ 5.515625 40.234375 12.765625 48.109375 \r\nQ 20.015625 56 32.328125 56 \r\nQ 43.359375 56 49.78125 48.890625 \r\nQ 56.203125 41.796875 56.203125 29.59375 \r\nz\r\nM 47.21875 32.234375 \r\nQ 47.125 39.59375 43.09375 43.984375 \r\nQ 39.0625 48.390625 32.421875 48.390625 \r\nQ 24.90625 48.390625 20.390625 44.140625 \r\nQ 15.875 39.890625 15.1875 32.171875 \r\nz\r\n\" id=\"DejaVuSans-65\"/>\r\n       <path d=\"M 48.6875 27.296875 \r\nQ 48.6875 37.203125 44.609375 42.84375 \r\nQ 40.53125 48.484375 33.40625 48.484375 \r\nQ 26.265625 48.484375 22.1875 42.84375 \r\nQ 18.109375 37.203125 18.109375 27.296875 \r\nQ 18.109375 17.390625 22.1875 11.75 \r\nQ 26.265625 6.109375 33.40625 6.109375 \r\nQ 40.53125 6.109375 44.609375 11.75 \r\nQ 48.6875 17.390625 48.6875 27.296875 \r\nz\r\nM 18.109375 46.390625 \r\nQ 20.953125 51.265625 25.265625 53.625 \r\nQ 29.59375 56 35.59375 56 \r\nQ 45.5625 56 51.78125 48.09375 \r\nQ 58.015625 40.1875 58.015625 27.296875 \r\nQ 58.015625 14.40625 51.78125 6.484375 \r\nQ 45.5625 -1.421875 35.59375 -1.421875 \r\nQ 29.59375 -1.421875 25.265625 0.953125 \r\nQ 20.953125 3.328125 18.109375 8.203125 \r\nL 18.109375 0 \r\nL 9.078125 0 \r\nL 9.078125 75.984375 \r\nL 18.109375 75.984375 \r\nz\r\n\" id=\"DejaVuSans-62\"/>\r\n      </defs>\r\n      <g transform=\"translate(136.060099 254.617813)scale(0.14 -0.14)\">\r\n       <use xlink:href=\"#DejaVuSans-46\"/>\r\n       <use x=\"57.441406\" xlink:href=\"#DejaVuSans-65\"/>\r\n       <use x=\"118.964844\" xlink:href=\"#DejaVuSans-62\"/>\r\n      </g>\r\n     </g>\r\n    </g>\r\n    <g id=\"xtick_3\">\r\n     <g id=\"line2d_5\">\r\n      <path clip-path=\"url(#pedde90cca0)\" d=\"M 234.25 240.48 \r\nL 234.25 7.2 \r\n\" style=\"fill:none;stroke:#cbcbcb;\"/>\r\n     </g>\r\n     <g id=\"line2d_6\"/>\r\n     <g id=\"text_3\">\r\n      <!-- Mar -->\r\n      <defs>\r\n       <path d=\"M 9.8125 72.90625 \r\nL 24.515625 72.90625 \r\nL 43.109375 23.296875 \r\nL 61.8125 72.90625 \r\nL 76.515625 72.90625 \r\nL 76.515625 0 \r\nL 66.890625 0 \r\nL 66.890625 64.015625 \r\nL 48.09375 14.015625 \r\nL 38.1875 14.015625 \r\nL 19.390625 64.015625 \r\nL 19.390625 0 \r\nL 9.8125 0 \r\nz\r\n\" id=\"DejaVuSans-4d\"/>\r\n       <path d=\"M 41.109375 46.296875 \r\nQ 39.59375 47.171875 37.8125 47.578125 \r\nQ 36.03125 48 33.890625 48 \r\nQ 26.265625 48 22.1875 43.046875 \r\nQ 18.109375 38.09375 18.109375 28.8125 \r\nL 18.109375 0 \r\nL 9.078125 0 \r\nL 9.078125 54.6875 \r\nL 18.109375 54.6875 \r\nL 18.109375 46.1875 \r\nQ 20.953125 51.171875 25.484375 53.578125 \r\nQ 30.03125 56 36.53125 56 \r\nQ 37.453125 56 38.578125 55.875 \r\nQ 39.703125 55.765625 41.0625 55.515625 \r\nz\r\n\" id=\"DejaVuSans-72\"/>\r\n      </defs>\r\n      <g transform=\"translate(221.042969 254.617813)scale(0.14 -0.14)\">\r\n       <use xlink:href=\"#DejaVuSans-4d\"/>\r\n       <use x=\"86.279297\" xlink:href=\"#DejaVuSans-61\"/>\r\n       <use x=\"147.558594\" xlink:href=\"#DejaVuSans-72\"/>\r\n      </g>\r\n     </g>\r\n    </g>\r\n    <g id=\"xtick_4\">\r\n     <g id=\"line2d_7\">\r\n      <path clip-path=\"url(#pedde90cca0)\" d=\"M 341.022727 240.48 \r\nL 341.022727 7.2 \r\n\" style=\"fill:none;stroke:#cbcbcb;\"/>\r\n     </g>\r\n     <g id=\"line2d_8\"/>\r\n     <g id=\"text_4\">\r\n      <!-- Apr -->\r\n      <defs>\r\n       <path d=\"M 34.1875 63.1875 \r\nL 20.796875 26.90625 \r\nL 47.609375 26.90625 \r\nz\r\nM 28.609375 72.90625 \r\nL 39.796875 72.90625 \r\nL 67.578125 0 \r\nL 57.328125 0 \r\nL 50.6875 18.703125 \r\nL 17.828125 18.703125 \r\nL 11.1875 0 \r\nL 0.78125 0 \r\nz\r\n\" id=\"DejaVuSans-41\"/>\r\n       <path d=\"M 18.109375 8.203125 \r\nL 18.109375 -20.796875 \r\nL 9.078125 -20.796875 \r\nL 9.078125 54.6875 \r\nL 18.109375 54.6875 \r\nL 18.109375 46.390625 \r\nQ 20.953125 51.265625 25.265625 53.625 \r\nQ 29.59375 56 35.59375 56 \r\nQ 45.5625 56 51.78125 48.09375 \r\nQ 58.015625 40.1875 58.015625 27.296875 \r\nQ 58.015625 14.40625 51.78125 6.484375 \r\nQ 45.5625 -1.421875 35.59375 -1.421875 \r\nQ 29.59375 -1.421875 25.265625 0.953125 \r\nQ 20.953125 3.328125 18.109375 8.203125 \r\nz\r\nM 48.6875 27.296875 \r\nQ 48.6875 37.203125 44.609375 42.84375 \r\nQ 40.53125 48.484375 33.40625 48.484375 \r\nQ 26.265625 48.484375 22.1875 42.84375 \r\nQ 18.109375 37.203125 18.109375 27.296875 \r\nQ 18.109375 17.390625 22.1875 11.75 \r\nQ 26.265625 6.109375 33.40625 6.109375 \r\nQ 40.53125 6.109375 44.609375 11.75 \r\nQ 48.6875 17.390625 48.6875 27.296875 \r\nz\r\n\" id=\"DejaVuSans-70\"/>\r\n      </defs>\r\n      <g transform=\"translate(328.912727 254.617813)scale(0.14 -0.14)\">\r\n       <use xlink:href=\"#DejaVuSans-41\"/>\r\n       <use x=\"68.408203\" xlink:href=\"#DejaVuSans-70\"/>\r\n       <use x=\"131.884766\" xlink:href=\"#DejaVuSans-72\"/>\r\n      </g>\r\n     </g>\r\n    </g>\r\n    <g id=\"xtick_5\">\r\n     <g id=\"line2d_9\">\r\n      <path clip-path=\"url(#pedde90cca0)\" d=\"M 405.086364 240.48 \r\nL 405.086364 7.2 \r\n\" style=\"fill:none;stroke:#cbcbcb;\"/>\r\n     </g>\r\n     <g id=\"line2d_10\"/>\r\n    </g>\r\n    <g id=\"xtick_6\">\r\n     <g id=\"line2d_11\"/>\r\n    </g>\r\n    <g id=\"xtick_7\">\r\n     <g id=\"line2d_12\"/>\r\n    </g>\r\n    <g id=\"xtick_8\">\r\n     <g id=\"line2d_13\"/>\r\n    </g>\r\n    <g id=\"xtick_9\">\r\n     <g id=\"line2d_14\"/>\r\n    </g>\r\n    <g id=\"xtick_10\">\r\n     <g id=\"line2d_15\"/>\r\n    </g>\r\n    <g id=\"xtick_11\">\r\n     <g id=\"line2d_16\"/>\r\n    </g>\r\n    <g id=\"xtick_12\">\r\n     <g id=\"line2d_17\"/>\r\n    </g>\r\n    <g id=\"xtick_13\">\r\n     <g id=\"line2d_18\"/>\r\n    </g>\r\n    <g id=\"xtick_14\">\r\n     <g id=\"line2d_19\"/>\r\n    </g>\r\n    <g id=\"xtick_15\">\r\n     <g id=\"line2d_20\"/>\r\n    </g>\r\n    <g id=\"xtick_16\">\r\n     <g id=\"line2d_21\"/>\r\n    </g>\r\n    <g id=\"xtick_17\">\r\n     <g id=\"line2d_22\"/>\r\n    </g>\r\n    <g id=\"xtick_18\">\r\n     <g id=\"line2d_23\"/>\r\n    </g>\r\n    <g id=\"text_5\">\r\n     <!-- date -->\r\n     <defs>\r\n      <path d=\"M 45.40625 46.390625 \r\nL 45.40625 75.984375 \r\nL 54.390625 75.984375 \r\nL 54.390625 0 \r\nL 45.40625 0 \r\nL 45.40625 8.203125 \r\nQ 42.578125 3.328125 38.25 0.953125 \r\nQ 33.9375 -1.421875 27.875 -1.421875 \r\nQ 17.96875 -1.421875 11.734375 6.484375 \r\nQ 5.515625 14.40625 5.515625 27.296875 \r\nQ 5.515625 40.1875 11.734375 48.09375 \r\nQ 17.96875 56 27.875 56 \r\nQ 33.9375 56 38.25 53.625 \r\nQ 42.578125 51.265625 45.40625 46.390625 \r\nz\r\nM 14.796875 27.296875 \r\nQ 14.796875 17.390625 18.875 11.75 \r\nQ 22.953125 6.109375 30.078125 6.109375 \r\nQ 37.203125 6.109375 41.296875 11.75 \r\nQ 45.40625 17.390625 45.40625 27.296875 \r\nQ 45.40625 37.203125 41.296875 42.84375 \r\nQ 37.203125 48.484375 30.078125 48.484375 \r\nQ 22.953125 48.484375 18.875 42.84375 \r\nQ 14.796875 37.203125 14.796875 27.296875 \r\nz\r\n\" id=\"DejaVuSans-64\"/>\r\n      <path d=\"M 18.3125 70.21875 \r\nL 18.3125 54.6875 \r\nL 36.8125 54.6875 \r\nL 36.8125 47.703125 \r\nL 18.3125 47.703125 \r\nL 18.3125 18.015625 \r\nQ 18.3125 11.328125 20.140625 9.421875 \r\nQ 21.96875 7.515625 27.59375 7.515625 \r\nL 36.8125 7.515625 \r\nL 36.8125 0 \r\nL 27.59375 0 \r\nQ 17.1875 0 13.234375 3.875 \r\nQ 9.28125 7.765625 9.28125 18.015625 \r\nL 9.28125 47.703125 \r\nL 2.6875 47.703125 \r\nL 2.6875 54.6875 \r\nL 9.28125 54.6875 \r\nL 9.28125 70.21875 \r\nz\r\n\" id=\"DejaVuSans-74\"/>\r\n     </defs>\r\n     <g transform=\"translate(215.308 289.971688)scale(0.168 -0.168)\">\r\n      <use xlink:href=\"#DejaVuSans-64\"/>\r\n      <use x=\"63.476562\" xlink:href=\"#DejaVuSans-61\"/>\r\n      <use x=\"124.755859\" xlink:href=\"#DejaVuSans-74\"/>\r\n      <use x=\"163.964844\" xlink:href=\"#DejaVuSans-65\"/>\r\n     </g>\r\n    </g>\r\n   </g>\r\n   <g id=\"matplotlib.axis_2\">\r\n    <g id=\"ytick_1\">\r\n     <g id=\"line2d_24\">\r\n      <path clip-path=\"url(#pedde90cca0)\" d=\"M 46.33 235.846005 \r\nL 422.17 235.846005 \r\n\" style=\"fill:none;stroke:#cbcbcb;\"/>\r\n     </g>\r\n     <g id=\"line2d_25\"/>\r\n     <g id=\"text_6\">\r\n      <!-- 0 -->\r\n      <g transform=\"translate(33.9225 241.164911)scale(0.14 -0.14)\">\r\n       <use xlink:href=\"#DejaVuSans-30\"/>\r\n      </g>\r\n     </g>\r\n    </g>\r\n    <g id=\"ytick_2\">\r\n     <g id=\"line2d_26\">\r\n      <path clip-path=\"url(#pedde90cca0)\" d=\"M 46.33 191.724486 \r\nL 422.17 191.724486 \r\n\" style=\"fill:none;stroke:#cbcbcb;\"/>\r\n     </g>\r\n     <g id=\"line2d_27\"/>\r\n     <g id=\"text_7\">\r\n      <!-- 500 -->\r\n      <defs>\r\n       <path d=\"M 10.796875 72.90625 \r\nL 49.515625 72.90625 \r\nL 49.515625 64.59375 \r\nL 19.828125 64.59375 \r\nL 19.828125 46.734375 \r\nQ 21.96875 47.46875 24.109375 47.828125 \r\nQ 26.265625 48.1875 28.421875 48.1875 \r\nQ 40.625 48.1875 47.75 41.5 \r\nQ 54.890625 34.8125 54.890625 23.390625 \r\nQ 54.890625 11.625 47.5625 5.09375 \r\nQ 40.234375 -1.421875 26.90625 -1.421875 \r\nQ 22.3125 -1.421875 17.546875 -0.640625 \r\nQ 12.796875 0.140625 7.71875 1.703125 \r\nL 7.71875 11.625 \r\nQ 12.109375 9.234375 16.796875 8.0625 \r\nQ 21.484375 6.890625 26.703125 6.890625 \r\nQ 35.15625 6.890625 40.078125 11.328125 \r\nQ 45.015625 15.765625 45.015625 23.390625 \r\nQ 45.015625 31 40.078125 35.4375 \r\nQ 35.15625 39.890625 26.703125 39.890625 \r\nQ 22.75 39.890625 18.8125 39.015625 \r\nQ 14.890625 38.140625 10.796875 36.28125 \r\nz\r\n\" id=\"DejaVuSans-35\"/>\r\n      </defs>\r\n      <g transform=\"translate(16.1075 197.043393)scale(0.14 -0.14)\">\r\n       <use xlink:href=\"#DejaVuSans-35\"/>\r\n       <use x=\"63.623047\" xlink:href=\"#DejaVuSans-30\"/>\r\n       <use x=\"127.246094\" xlink:href=\"#DejaVuSans-30\"/>\r\n      </g>\r\n     </g>\r\n    </g>\r\n    <g id=\"ytick_3\">\r\n     <g id=\"line2d_28\">\r\n      <path clip-path=\"url(#pedde90cca0)\" d=\"M 46.33 147.602968 \r\nL 422.17 147.602968 \r\n\" style=\"fill:none;stroke:#cbcbcb;\"/>\r\n     </g>\r\n     <g id=\"line2d_29\"/>\r\n     <g id=\"text_8\">\r\n      <!-- 1000 -->\r\n      <g transform=\"translate(7.2 152.921874)scale(0.14 -0.14)\">\r\n       <use xlink:href=\"#DejaVuSans-31\"/>\r\n       <use x=\"63.623047\" xlink:href=\"#DejaVuSans-30\"/>\r\n       <use x=\"127.246094\" xlink:href=\"#DejaVuSans-30\"/>\r\n       <use x=\"190.869141\" xlink:href=\"#DejaVuSans-30\"/>\r\n      </g>\r\n     </g>\r\n    </g>\r\n    <g id=\"ytick_4\">\r\n     <g id=\"line2d_30\">\r\n      <path clip-path=\"url(#pedde90cca0)\" d=\"M 46.33 103.481449 \r\nL 422.17 103.481449 \r\n\" style=\"fill:none;stroke:#cbcbcb;\"/>\r\n     </g>\r\n     <g id=\"line2d_31\"/>\r\n     <g id=\"text_9\">\r\n      <!-- 1500 -->\r\n      <g transform=\"translate(7.2 108.800355)scale(0.14 -0.14)\">\r\n       <use xlink:href=\"#DejaVuSans-31\"/>\r\n       <use x=\"63.623047\" xlink:href=\"#DejaVuSans-35\"/>\r\n       <use x=\"127.246094\" xlink:href=\"#DejaVuSans-30\"/>\r\n       <use x=\"190.869141\" xlink:href=\"#DejaVuSans-30\"/>\r\n      </g>\r\n     </g>\r\n    </g>\r\n    <g id=\"ytick_5\">\r\n     <g id=\"line2d_32\">\r\n      <path clip-path=\"url(#pedde90cca0)\" d=\"M 46.33 59.35993 \r\nL 422.17 59.35993 \r\n\" style=\"fill:none;stroke:#cbcbcb;\"/>\r\n     </g>\r\n     <g id=\"line2d_33\"/>\r\n     <g id=\"text_10\">\r\n      <!-- 2000 -->\r\n      <g transform=\"translate(7.2 64.678836)scale(0.14 -0.14)\">\r\n       <use xlink:href=\"#DejaVuSans-32\"/>\r\n       <use x=\"63.623047\" xlink:href=\"#DejaVuSans-30\"/>\r\n       <use x=\"127.246094\" xlink:href=\"#DejaVuSans-30\"/>\r\n       <use x=\"190.869141\" xlink:href=\"#DejaVuSans-30\"/>\r\n      </g>\r\n     </g>\r\n    </g>\r\n    <g id=\"ytick_6\">\r\n     <g id=\"line2d_34\">\r\n      <path clip-path=\"url(#pedde90cca0)\" d=\"M 46.33 15.238411 \r\nL 422.17 15.238411 \r\n\" style=\"fill:none;stroke:#cbcbcb;\"/>\r\n     </g>\r\n     <g id=\"line2d_35\"/>\r\n     <g id=\"text_11\">\r\n      <!-- 2500 -->\r\n      <g transform=\"translate(7.2 20.557318)scale(0.14 -0.14)\">\r\n       <use xlink:href=\"#DejaVuSans-32\"/>\r\n       <use x=\"63.623047\" xlink:href=\"#DejaVuSans-35\"/>\r\n       <use x=\"127.246094\" xlink:href=\"#DejaVuSans-30\"/>\r\n       <use x=\"190.869141\" xlink:href=\"#DejaVuSans-30\"/>\r\n      </g>\r\n     </g>\r\n    </g>\r\n   </g>\r\n   <g id=\"line2d_36\">\r\n    <path clip-path=\"url(#pedde90cca0)\" d=\"M 63.413636 219.263374 \r\nL 84.768182 229.876364 \r\nL 106.122727 208.843636 \r\nL 127.477273 219.989614 \r\nL 148.831818 206.454014 \r\nL 170.186364 225.627461 \r\nL 191.540909 227.390557 \r\nL 212.895455 198.866878 \r\nL 234.25 220.39112 \r\nL 255.604545 209.025416 \r\nL 276.959091 221.427975 \r\nL 298.313636 219.101006 \r\nL 319.668182 218.248579 \r\nL 341.022727 191.615065 \r\nL 362.377273 212.038916 \r\nL 383.731818 216.949641 \r\nL 405.086364 218.916578 \r\n\" style=\"fill:none;stroke:#008fd5;stroke-width:4;\"/>\r\n   </g>\r\n   <g id=\"line2d_37\">\r\n    <path clip-path=\"url(#pedde90cca0)\" d=\"M 63.413636 172.169829 \r\nL 84.768182 138.325977 \r\nL 106.122727 128.348337 \r\nL 127.477273 129.664923 \r\nL 148.831818 143.827048 \r\nL 170.186364 149.867284 \r\nL 191.540909 143.587909 \r\nL 212.895455 111.181536 \r\nL 234.25 160.092887 \r\nL 255.604545 154.19737 \r\nL 276.959091 155.880165 \r\nL 298.313636 136.819668 \r\nL 319.668182 143.626736 \r\nL 341.022727 146.65612 \r\nL 362.377273 166.591104 \r\nL 383.731818 134.430929 \r\nL 405.086364 116.034021 \r\n\" style=\"fill:none;stroke:#fc4f30;stroke-width:4;\"/>\r\n   </g>\r\n   <g id=\"line2d_38\">\r\n    <path clip-path=\"url(#pedde90cca0)\" d=\"M 63.413636 89.214314 \r\nL 84.768182 54.909834 \r\nL 106.122727 64.74099 \r\nL 127.477273 47.931574 \r\nL 148.831818 51.68808 \r\nL 170.186364 45.008082 \r\nL 191.540909 38.616639 \r\nL 212.895455 18.213084 \r\nL 234.25 40.105299 \r\nL 255.604545 17.803636 \r\nL 276.959091 55.440174 \r\nL 298.313636 26.853842 \r\nL 319.668182 64.410079 \r\nL 341.022727 27.883639 \r\nL 362.377273 24.88161 \r\nL 383.731818 32.551695 \r\nL 405.086364 38.332497 \r\n\" style=\"fill:none;stroke:#e5ae38;stroke-width:4;\"/>\r\n   </g>\r\n   <g id=\"patch_3\">\r\n    <path d=\"M 46.33 240.48 \r\nL 46.33 7.2 \r\n\" style=\"fill:none;stroke:#f0f0f0;stroke-linecap:square;stroke-linejoin:miter;stroke-width:3;\"/>\r\n   </g>\r\n   <g id=\"patch_4\">\r\n    <path d=\"M 422.17 240.48 \r\nL 422.17 7.2 \r\n\" style=\"fill:none;stroke:#f0f0f0;stroke-linecap:square;stroke-linejoin:miter;stroke-width:3;\"/>\r\n   </g>\r\n   <g id=\"patch_5\">\r\n    <path d=\"M 46.33 240.48 \r\nL 422.17 240.48 \r\n\" style=\"fill:none;stroke:#f0f0f0;stroke-linecap:square;stroke-linejoin:miter;stroke-width:3;\"/>\r\n   </g>\r\n   <g id=\"patch_6\">\r\n    <path d=\"M 46.33 7.2 \r\nL 422.17 7.2 \r\n\" style=\"fill:none;stroke:#f0f0f0;stroke-linecap:square;stroke-linejoin:miter;stroke-width:3;\"/>\r\n   </g>\r\n   <g id=\"legend_1\">\r\n    <g id=\"patch_7\">\r\n     <path d=\"M 154.194063 100.5975 \r\nL 314.305937 100.5975 \r\nQ 317.105937 100.5975 317.105937 97.7975 \r\nL 317.105937 17 \r\nQ 317.105937 14.2 314.305937 14.2 \r\nL 154.194063 14.2 \r\nQ 151.394062 14.2 151.394062 17 \r\nL 151.394062 97.7975 \r\nQ 151.394062 100.5975 154.194063 100.5975 \r\nz\r\n\" style=\"fill:#f0f0f0;opacity:0.8;stroke:#cccccc;stroke-linejoin:miter;stroke-width:0.5;\"/>\r\n    </g>\r\n    <g id=\"text_12\">\r\n     <!-- None,type -->\r\n     <defs>\r\n      <path d=\"M 9.8125 72.90625 \r\nL 23.09375 72.90625 \r\nL 55.421875 11.921875 \r\nL 55.421875 72.90625 \r\nL 64.984375 72.90625 \r\nL 64.984375 0 \r\nL 51.703125 0 \r\nL 19.390625 60.984375 \r\nL 19.390625 0 \r\nL 9.8125 0 \r\nz\r\n\" id=\"DejaVuSans-4e\"/>\r\n      <path d=\"M 30.609375 48.390625 \r\nQ 23.390625 48.390625 19.1875 42.75 \r\nQ 14.984375 37.109375 14.984375 27.296875 \r\nQ 14.984375 17.484375 19.15625 11.84375 \r\nQ 23.34375 6.203125 30.609375 6.203125 \r\nQ 37.796875 6.203125 41.984375 11.859375 \r\nQ 46.1875 17.53125 46.1875 27.296875 \r\nQ 46.1875 37.015625 41.984375 42.703125 \r\nQ 37.796875 48.390625 30.609375 48.390625 \r\nz\r\nM 30.609375 56 \r\nQ 42.328125 56 49.015625 48.375 \r\nQ 55.71875 40.765625 55.71875 27.296875 \r\nQ 55.71875 13.875 49.015625 6.21875 \r\nQ 42.328125 -1.421875 30.609375 -1.421875 \r\nQ 18.84375 -1.421875 12.171875 6.21875 \r\nQ 5.515625 13.875 5.515625 27.296875 \r\nQ 5.515625 40.765625 12.171875 48.375 \r\nQ 18.84375 56 30.609375 56 \r\nz\r\n\" id=\"DejaVuSans-6f\"/>\r\n      <path d=\"M 11.71875 12.40625 \r\nL 22.015625 12.40625 \r\nL 22.015625 4 \r\nL 14.015625 -11.625 \r\nL 7.71875 -11.625 \r\nL 11.71875 4 \r\nz\r\n\" id=\"DejaVuSans-2c\"/>\r\n      <path d=\"M 32.171875 -5.078125 \r\nQ 28.375 -14.84375 24.75 -17.8125 \r\nQ 21.140625 -20.796875 15.09375 -20.796875 \r\nL 7.90625 -20.796875 \r\nL 7.90625 -13.28125 \r\nL 13.1875 -13.28125 \r\nQ 16.890625 -13.28125 18.9375 -11.515625 \r\nQ 21 -9.765625 23.484375 -3.21875 \r\nL 25.09375 0.875 \r\nL 2.984375 54.6875 \r\nL 12.5 54.6875 \r\nL 29.59375 11.921875 \r\nL 46.6875 54.6875 \r\nL 56.203125 54.6875 \r\nz\r\n\" id=\"DejaVuSans-79\"/>\r\n     </defs>\r\n     <g transform=\"translate(198.123437 30.437813)scale(0.14 -0.14)\">\r\n      <use xlink:href=\"#DejaVuSans-4e\"/>\r\n      <use x=\"74.804688\" xlink:href=\"#DejaVuSans-6f\"/>\r\n      <use x=\"135.986328\" xlink:href=\"#DejaVuSans-6e\"/>\r\n      <use x=\"199.365234\" xlink:href=\"#DejaVuSans-65\"/>\r\n      <use x=\"260.888672\" xlink:href=\"#DejaVuSans-2c\"/>\r\n      <use x=\"292.675781\" xlink:href=\"#DejaVuSans-74\"/>\r\n      <use x=\"331.884766\" xlink:href=\"#DejaVuSans-79\"/>\r\n      <use x=\"391.064453\" xlink:href=\"#DejaVuSans-70\"/>\r\n      <use x=\"454.541016\" xlink:href=\"#DejaVuSans-65\"/>\r\n     </g>\r\n    </g>\r\n    <g id=\"line2d_39\">\r\n     <path d=\"M 156.994062 46.087188 \r\nL 184.994062 46.087188 \r\n\" style=\"fill:none;stroke:#008fd5;stroke-width:4;\"/>\r\n    </g>\r\n    <g id=\"line2d_40\"/>\r\n    <g id=\"text_13\">\r\n     <!-- (fare, Rural) -->\r\n     <defs>\r\n      <path d=\"M 31 75.875 \r\nQ 24.46875 64.65625 21.28125 53.65625 \r\nQ 18.109375 42.671875 18.109375 31.390625 \r\nQ 18.109375 20.125 21.3125 9.0625 \r\nQ 24.515625 -2 31 -13.1875 \r\nL 23.1875 -13.1875 \r\nQ 15.875 -1.703125 12.234375 9.375 \r\nQ 8.59375 20.453125 8.59375 31.390625 \r\nQ 8.59375 42.28125 12.203125 53.3125 \r\nQ 15.828125 64.359375 23.1875 75.875 \r\nz\r\n\" id=\"DejaVuSans-28\"/>\r\n      <path d=\"M 37.109375 75.984375 \r\nL 37.109375 68.5 \r\nL 28.515625 68.5 \r\nQ 23.6875 68.5 21.796875 66.546875 \r\nQ 19.921875 64.59375 19.921875 59.515625 \r\nL 19.921875 54.6875 \r\nL 34.71875 54.6875 \r\nL 34.71875 47.703125 \r\nL 19.921875 47.703125 \r\nL 19.921875 0 \r\nL 10.890625 0 \r\nL 10.890625 47.703125 \r\nL 2.296875 47.703125 \r\nL 2.296875 54.6875 \r\nL 10.890625 54.6875 \r\nL 10.890625 58.5 \r\nQ 10.890625 67.625 15.140625 71.796875 \r\nQ 19.390625 75.984375 28.609375 75.984375 \r\nz\r\n\" id=\"DejaVuSans-66\"/>\r\n      <path id=\"DejaVuSans-20\"/>\r\n      <path d=\"M 44.390625 34.1875 \r\nQ 47.5625 33.109375 50.5625 29.59375 \r\nQ 53.5625 26.078125 56.59375 19.921875 \r\nL 66.609375 0 \r\nL 56 0 \r\nL 46.6875 18.703125 \r\nQ 43.0625 26.03125 39.671875 28.421875 \r\nQ 36.28125 30.8125 30.421875 30.8125 \r\nL 19.671875 30.8125 \r\nL 19.671875 0 \r\nL 9.8125 0 \r\nL 9.8125 72.90625 \r\nL 32.078125 72.90625 \r\nQ 44.578125 72.90625 50.734375 67.671875 \r\nQ 56.890625 62.453125 56.890625 51.90625 \r\nQ 56.890625 45.015625 53.6875 40.46875 \r\nQ 50.484375 35.9375 44.390625 34.1875 \r\nz\r\nM 19.671875 64.796875 \r\nL 19.671875 38.921875 \r\nL 32.078125 38.921875 \r\nQ 39.203125 38.921875 42.84375 42.21875 \r\nQ 46.484375 45.515625 46.484375 51.90625 \r\nQ 46.484375 58.296875 42.84375 61.546875 \r\nQ 39.203125 64.796875 32.078125 64.796875 \r\nz\r\n\" id=\"DejaVuSans-52\"/>\r\n      <path d=\"M 8.5 21.578125 \r\nL 8.5 54.6875 \r\nL 17.484375 54.6875 \r\nL 17.484375 21.921875 \r\nQ 17.484375 14.15625 20.5 10.265625 \r\nQ 23.53125 6.390625 29.59375 6.390625 \r\nQ 36.859375 6.390625 41.078125 11.03125 \r\nQ 45.3125 15.671875 45.3125 23.6875 \r\nL 45.3125 54.6875 \r\nL 54.296875 54.6875 \r\nL 54.296875 0 \r\nL 45.3125 0 \r\nL 45.3125 8.40625 \r\nQ 42.046875 3.421875 37.71875 1 \r\nQ 33.40625 -1.421875 27.6875 -1.421875 \r\nQ 18.265625 -1.421875 13.375 4.4375 \r\nQ 8.5 10.296875 8.5 21.578125 \r\nz\r\nM 31.109375 56 \r\nz\r\n\" id=\"DejaVuSans-75\"/>\r\n      <path d=\"M 9.421875 75.984375 \r\nL 18.40625 75.984375 \r\nL 18.40625 0 \r\nL 9.421875 0 \r\nz\r\n\" id=\"DejaVuSans-6c\"/>\r\n      <path d=\"M 8.015625 75.875 \r\nL 15.828125 75.875 \r\nQ 23.140625 64.359375 26.78125 53.3125 \r\nQ 30.421875 42.28125 30.421875 31.390625 \r\nQ 30.421875 20.453125 26.78125 9.375 \r\nQ 23.140625 -1.703125 15.828125 -13.1875 \r\nL 8.015625 -13.1875 \r\nQ 14.5 -2 17.703125 9.0625 \r\nQ 20.90625 20.125 20.90625 31.390625 \r\nQ 20.90625 42.671875 17.703125 53.65625 \r\nQ 14.5 64.65625 8.015625 75.875 \r\nz\r\n\" id=\"DejaVuSans-29\"/>\r\n     </defs>\r\n     <g transform=\"translate(196.194062 50.987188)scale(0.14 -0.14)\">\r\n      <use xlink:href=\"#DejaVuSans-28\"/>\r\n      <use x=\"39.013672\" xlink:href=\"#DejaVuSans-66\"/>\r\n      <use x=\"74.21875\" xlink:href=\"#DejaVuSans-61\"/>\r\n      <use x=\"135.498047\" xlink:href=\"#DejaVuSans-72\"/>\r\n      <use x=\"176.580078\" xlink:href=\"#DejaVuSans-65\"/>\r\n      <use x=\"238.103516\" xlink:href=\"#DejaVuSans-2c\"/>\r\n      <use x=\"269.890625\" xlink:href=\"#DejaVuSans-20\"/>\r\n      <use x=\"301.677734\" xlink:href=\"#DejaVuSans-52\"/>\r\n      <use x=\"371.097656\" xlink:href=\"#DejaVuSans-75\"/>\r\n      <use x=\"434.476562\" xlink:href=\"#DejaVuSans-72\"/>\r\n      <use x=\"475.589844\" xlink:href=\"#DejaVuSans-61\"/>\r\n      <use x=\"536.869141\" xlink:href=\"#DejaVuSans-6c\"/>\r\n      <use x=\"564.652344\" xlink:href=\"#DejaVuSans-29\"/>\r\n     </g>\r\n    </g>\r\n    <g id=\"line2d_41\">\r\n     <path d=\"M 156.994062 66.636562 \r\nL 184.994062 66.636562 \r\n\" style=\"fill:none;stroke:#fc4f30;stroke-width:4;\"/>\r\n    </g>\r\n    <g id=\"line2d_42\"/>\r\n    <g id=\"text_14\">\r\n     <!-- (fare, Suburban) -->\r\n     <defs>\r\n      <path d=\"M 53.515625 70.515625 \r\nL 53.515625 60.890625 \r\nQ 47.90625 63.578125 42.921875 64.890625 \r\nQ 37.9375 66.21875 33.296875 66.21875 \r\nQ 25.25 66.21875 20.875 63.09375 \r\nQ 16.5 59.96875 16.5 54.203125 \r\nQ 16.5 49.359375 19.40625 46.890625 \r\nQ 22.3125 44.4375 30.421875 42.921875 \r\nL 36.375 41.703125 \r\nQ 47.40625 39.59375 52.65625 34.296875 \r\nQ 57.90625 29 57.90625 20.125 \r\nQ 57.90625 9.515625 50.796875 4.046875 \r\nQ 43.703125 -1.421875 29.984375 -1.421875 \r\nQ 24.8125 -1.421875 18.96875 -0.25 \r\nQ 13.140625 0.921875 6.890625 3.21875 \r\nL 6.890625 13.375 \r\nQ 12.890625 10.015625 18.65625 8.296875 \r\nQ 24.421875 6.59375 29.984375 6.59375 \r\nQ 38.421875 6.59375 43.015625 9.90625 \r\nQ 47.609375 13.234375 47.609375 19.390625 \r\nQ 47.609375 24.75 44.3125 27.78125 \r\nQ 41.015625 30.8125 33.5 32.328125 \r\nL 27.484375 33.5 \r\nQ 16.453125 35.6875 11.515625 40.375 \r\nQ 6.59375 45.0625 6.59375 53.421875 \r\nQ 6.59375 63.09375 13.40625 68.65625 \r\nQ 20.21875 74.21875 32.171875 74.21875 \r\nQ 37.3125 74.21875 42.625 73.28125 \r\nQ 47.953125 72.359375 53.515625 70.515625 \r\nz\r\n\" id=\"DejaVuSans-53\"/>\r\n     </defs>\r\n     <g transform=\"translate(196.194062 71.536563)scale(0.14 -0.14)\">\r\n      <use xlink:href=\"#DejaVuSans-28\"/>\r\n      <use x=\"39.013672\" xlink:href=\"#DejaVuSans-66\"/>\r\n      <use x=\"74.21875\" xlink:href=\"#DejaVuSans-61\"/>\r\n      <use x=\"135.498047\" xlink:href=\"#DejaVuSans-72\"/>\r\n      <use x=\"176.580078\" xlink:href=\"#DejaVuSans-65\"/>\r\n      <use x=\"238.103516\" xlink:href=\"#DejaVuSans-2c\"/>\r\n      <use x=\"269.890625\" xlink:href=\"#DejaVuSans-20\"/>\r\n      <use x=\"301.677734\" xlink:href=\"#DejaVuSans-53\"/>\r\n      <use x=\"365.154297\" xlink:href=\"#DejaVuSans-75\"/>\r\n      <use x=\"428.533203\" xlink:href=\"#DejaVuSans-62\"/>\r\n      <use x=\"492.009766\" xlink:href=\"#DejaVuSans-75\"/>\r\n      <use x=\"555.388672\" xlink:href=\"#DejaVuSans-72\"/>\r\n      <use x=\"596.501953\" xlink:href=\"#DejaVuSans-62\"/>\r\n      <use x=\"659.978516\" xlink:href=\"#DejaVuSans-61\"/>\r\n      <use x=\"721.257812\" xlink:href=\"#DejaVuSans-6e\"/>\r\n      <use x=\"784.636719\" xlink:href=\"#DejaVuSans-29\"/>\r\n     </g>\r\n    </g>\r\n    <g id=\"line2d_43\">\r\n     <path d=\"M 156.994062 87.185937 \r\nL 184.994062 87.185937 \r\n\" style=\"fill:none;stroke:#e5ae38;stroke-width:4;\"/>\r\n    </g>\r\n    <g id=\"line2d_44\"/>\r\n    <g id=\"text_15\">\r\n     <!-- (fare, Urban) -->\r\n     <defs>\r\n      <path d=\"M 8.6875 72.90625 \r\nL 18.609375 72.90625 \r\nL 18.609375 28.609375 \r\nQ 18.609375 16.890625 22.84375 11.734375 \r\nQ 27.09375 6.59375 36.625 6.59375 \r\nQ 46.09375 6.59375 50.34375 11.734375 \r\nQ 54.59375 16.890625 54.59375 28.609375 \r\nL 54.59375 72.90625 \r\nL 64.5 72.90625 \r\nL 64.5 27.390625 \r\nQ 64.5 13.140625 57.4375 5.859375 \r\nQ 50.390625 -1.421875 36.625 -1.421875 \r\nQ 22.796875 -1.421875 15.734375 5.859375 \r\nQ 8.6875 13.140625 8.6875 27.390625 \r\nz\r\n\" id=\"DejaVuSans-55\"/>\r\n     </defs>\r\n     <g transform=\"translate(196.194062 92.085938)scale(0.14 -0.14)\">\r\n      <use xlink:href=\"#DejaVuSans-28\"/>\r\n      <use x=\"39.013672\" xlink:href=\"#DejaVuSans-66\"/>\r\n      <use x=\"74.21875\" xlink:href=\"#DejaVuSans-61\"/>\r\n      <use x=\"135.498047\" xlink:href=\"#DejaVuSans-72\"/>\r\n      <use x=\"176.580078\" xlink:href=\"#DejaVuSans-65\"/>\r\n      <use x=\"238.103516\" xlink:href=\"#DejaVuSans-2c\"/>\r\n      <use x=\"269.890625\" xlink:href=\"#DejaVuSans-20\"/>\r\n      <use x=\"301.677734\" xlink:href=\"#DejaVuSans-55\"/>\r\n      <use x=\"374.871094\" xlink:href=\"#DejaVuSans-72\"/>\r\n      <use x=\"415.984375\" xlink:href=\"#DejaVuSans-62\"/>\r\n      <use x=\"479.460938\" xlink:href=\"#DejaVuSans-61\"/>\r\n      <use x=\"540.740234\" xlink:href=\"#DejaVuSans-6e\"/>\r\n      <use x=\"604.119141\" xlink:href=\"#DejaVuSans-29\"/>\r\n     </g>\r\n    </g>\r\n   </g>\r\n  </g>\r\n </g>\r\n <defs>\r\n  <clipPath id=\"pedde90cca0\">\r\n   <rect height=\"233.28\" width=\"375.84\" x=\"46.33\" y=\"7.2\"/>\r\n  </clipPath>\r\n </defs>\r\n</svg>\r\n",
      "image/png": "[encoded data removed]"
     },
     "metadata": {}
    }
   ],
   "source": [
    "# 8. Using the object-oriented interface method, plot the resample DataFrame using the df.plot() function. \n",
    "\n",
    "# Import the style from Matplotlib.\n",
    "from matplotlib import style\n",
    "# Use the graph style fivethirtyeight.\n",
    "style.use('fivethirtyeight')\n",
    "\n",
    "df_weekly.plot()"
   ]
  },
  {
   "cell_type": "code",
   "execution_count": null,
   "metadata": {},
   "outputs": [],
   "source": []
  }
 ],
 "metadata": {
  "anaconda-cloud": {},
  "kernelspec": {
   "name": "python370jvsc74a57bd05572c7b15414d34e15d04c80987db17fef1cb2d73338f68ee8a8228bc15fcb96",
   "display_name": "Python 3.7.0 64-bit ('base': conda)"
  },
  "language_info": {
   "codemirror_mode": {
    "name": "ipython",
    "version": 3
   },
   "file_extension": ".py",
   "mimetype": "text/x-python",
   "name": "python",
   "nbconvert_exporter": "python",
   "pygments_lexer": "ipython3",
   "version": "3.7.0"
  }
 },
 "nbformat": 4,
 "nbformat_minor": 2
}